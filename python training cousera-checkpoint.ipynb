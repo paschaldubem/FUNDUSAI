{
 "cells": [
  {
   "cell_type": "code",
   "execution_count": 1,
   "id": "7dc7ccc9-36b4-4a61-8f11-6cae974aae90",
   "metadata": {},
   "outputs": [
    {
     "name": "stdout",
     "output_type": "stream",
     "text": [
      "Hello world\n"
     ]
    }
   ],
   "source": [
    "print(\"Hello world\")"
   ]
  },
  {
   "cell_type": "code",
   "execution_count": 1,
   "id": "ee33648f-37b7-44ed-b274-d1854b00757e",
   "metadata": {},
   "outputs": [
    {
     "data": {
      "text/plain": [
       "False"
      ]
     },
     "execution_count": 1,
     "metadata": {},
     "output_type": "execute_result"
    }
   ],
   "source": [
    "100**3 == 1000"
   ]
  },
  {
   "cell_type": "code",
   "execution_count": 11,
   "id": "55db7c36-958e-41b2-84f1-d73c5e8c9320",
   "metadata": {},
   "outputs": [],
   "source": [
    "age = 30"
   ]
  },
  {
   "cell_type": "code",
   "execution_count": 12,
   "id": "16b2d4cd-ed6d-4e0b-86c7-56942e383194",
   "metadata": {},
   "outputs": [
    {
     "name": "stdout",
     "output_type": "stream",
     "text": [
      "adult\n"
     ]
    }
   ],
   "source": [
    "if age >=16:\n",
    "    print (\"adult\")\n",
    "else:\n",
    "    print (\"minor\")"
   ]
  },
  {
   "cell_type": "code",
   "execution_count": 18,
   "id": "912cbf86-3de6-4256-a040-c600442262e6",
   "metadata": {},
   "outputs": [],
   "source": [
    "def paz(age):\n",
    "\n",
    "    if age >=16:\n",
    "        print (\"adult\")\n",
    "    else:\n",
    "        print (\"minor\")"
   ]
  },
  {
   "cell_type": "code",
   "execution_count": 17,
   "id": "7fd00a7a-a748-4270-955b-c785d52707e8",
   "metadata": {},
   "outputs": [
    {
     "name": "stdout",
     "output_type": "stream",
     "text": [
      "minor\n"
     ]
    }
   ],
   "source": [
    "paz(3)"
   ]
  },
  {
   "cell_type": "markdown",
   "id": "08f478bf-bfc7-4917-b948-68e8ccf73ebd",
   "metadata": {},
   "source": [
    "Methods"
   ]
  },
  {
   "cell_type": "code",
   "execution_count": 20,
   "id": "a8193a4d-ee5a-47eb-aecf-ea820d15acdd",
   "metadata": {
    "editable": true,
    "slideshow": {
     "slide_type": ""
    },
    "tags": []
   },
   "outputs": [
    {
     "name": "stdout",
     "output_type": "stream",
     "text": [
      "<class 'str'>\n"
     ]
    }
   ],
   "source": [
    "magic = 'hocus pocus'\n",
    "print(type(magic))"
   ]
  },
  {
   "cell_type": "code",
   "execution_count": 21,
   "id": "2f6374ec-2103-4a01-84c5-5bc799135142",
   "metadata": {},
   "outputs": [
    {
     "data": {
      "text/plain": [
       "'HOCUS POCUS'"
      ]
     },
     "execution_count": 21,
     "metadata": {},
     "output_type": "execute_result"
    }
   ],
   "source": [
    "magic = magic.swapcase()\n",
    "magic"
   ]
  },
  {
   "cell_type": "code",
   "execution_count": 24,
   "id": "64d5349c-a3cd-43c3-be54-7bd318b7d2db",
   "metadata": {},
   "outputs": [
    {
     "data": {
      "text/plain": [
       "'HOPAR POPAR'"
      ]
     },
     "execution_count": 24,
     "metadata": {},
     "output_type": "execute_result"
    }
   ],
   "source": [
    "magic = magic.replace ('CUS' , 'PAR')\n",
    "magic"
   ]
  },
  {
   "cell_type": "code",
   "execution_count": 26,
   "id": "1d5aac6c-e94d-4ee0-a38f-6617488ce72e",
   "metadata": {},
   "outputs": [
    {
     "data": {
      "text/plain": [
       "['HOPAR', 'POPAR']"
      ]
     },
     "execution_count": 26,
     "metadata": {},
     "output_type": "execute_result"
    }
   ],
   "source": [
    " magic = magic.split()\n",
    "magic"
   ]
  },
  {
   "cell_type": "markdown",
   "id": "7b4bbd63-0d31-4120-8b11-59b0f77a7e9e",
   "metadata": {},
   "source": [
    "Variable"
   ]
  },
  {
   "cell_type": "code",
   "execution_count": 5,
   "id": "2987ac10-efbc-4c05-9906-1634d2774ca4",
   "metadata": {},
   "outputs": [],
   "source": [
    "age_list = [34, 25,23, 22,29]\n"
   ]
  },
  {
   "cell_type": "code",
   "execution_count": 6,
   "id": "a1b5180b-a498-4306-b583-588b903a3869",
   "metadata": {},
   "outputs": [
    {
     "data": {
      "text/plain": [
       "34"
      ]
     },
     "execution_count": 6,
     "metadata": {},
     "output_type": "execute_result"
    }
   ],
   "source": [
    "max_age = max(age_list)\n",
    "max_age"
   ]
  },
  {
   "cell_type": "code",
   "execution_count": 4,
   "id": "839cbf4a-1e57-4aa0-9323-eaaafee32def",
   "metadata": {},
   "outputs": [
    {
     "data": {
      "text/plain": [
       "'34'"
      ]
     },
     "execution_count": 4,
     "metadata": {},
     "output_type": "execute_result"
    }
   ],
   "source": [
    "max_age = str(max_age)\n",
    "max_age"
   ]
  },
  {
   "cell_type": "code",
   "execution_count": 7,
   "id": "ea14fe69-247a-422c-9cd4-6c4dbebf163e",
   "metadata": {},
   "outputs": [
    {
     "data": {
      "text/plain": [
       "34"
      ]
     },
     "execution_count": 7,
     "metadata": {},
     "output_type": "execute_result"
    }
   ],
   "source": [
    "max_age"
   ]
  },
  {
   "cell_type": "code",
   "execution_count": 20,
   "id": "9bb80e54-c030-4140-9438-95d05fe47a11",
   "metadata": {},
   "outputs": [],
   "source": [
    "First_name = 'Paschal '\n",
    "Last_name = 'Mgbecheta' "
   ]
  },
  {
   "cell_type": "code",
   "execution_count": 22,
   "id": "2aab8c3e-0e86-45de-aa21-63a85234c74e",
   "metadata": {},
   "outputs": [
    {
     "data": {
      "text/plain": [
       "'Paschal Mgbecheta'"
      ]
     },
     "execution_count": 22,
     "metadata": {},
     "output_type": "execute_result"
    }
   ],
   "source": [
    "Full_name = First_name + Last_name\n",
    "Full_name"
   ]
  },
  {
   "cell_type": "markdown",
   "id": "f25ae5a7-955a-406a-ab66-75388ab51b96",
   "metadata": {},
   "source": [
    "Defining a function using a 'def' keyword"
   ]
  },
  {
   "cell_type": "code",
   "execution_count": 16,
   "id": "3a1ab117-00cf-405c-bc1b-a196e950d7bb",
   "metadata": {},
   "outputs": [],
   "source": [
    "def demo_function(name):\n",
    "    print(\"Who asked you \" + name)\n",
    "    print(\"now get out!\")\n",
    "    "
   ]
  },
  {
   "cell_type": "code",
   "execution_count": 18,
   "id": "7e32f996-4205-494e-8126-c0ca09ad07e8",
   "metadata": {},
   "outputs": [
    {
     "name": "stdout",
     "output_type": "stream",
     "text": [
      "Who asked you Ella\n",
      "now get out!\n"
     ]
    }
   ],
   "source": [
    "demo_function(\"Ella\")"
   ]
  },
  {
   "cell_type": "markdown",
   "id": "b3685abe-0081-46b3-a5d9-9bee4e203785",
   "metadata": {},
   "source": [
    "Using 'return' keyword "
   ]
  },
  {
   "cell_type": "code",
   "execution_count": 28,
   "id": "4350b19c-b493-4318-b513-56b529f7f2d0",
   "metadata": {},
   "outputs": [],
   "source": [
    "def acceleration(distance, time):\n",
    "    return distance / time"
   ]
  },
  {
   "cell_type": "code",
   "execution_count": 32,
   "id": "e2c96f9b-d0a8-488e-b8ea-873204a9d765",
   "metadata": {},
   "outputs": [
    {
     "data": {
      "text/plain": [
       "24.702380952380953"
      ]
     },
     "execution_count": 32,
     "metadata": {},
     "output_type": "execute_result"
    }
   ],
   "source": [
    "motor_a = acceleration(100, 7)\n",
    "motor_b = acceleration(250, 24)\n",
    "\n",
    "Total_acceleration = motor_a + motor_b\n",
    "Total_acceleration"
   ]
  },
  {
   "cell_type": "code",
   "execution_count": 34,
   "id": "f9bebb3f-b42d-4559-865c-48f77ad682c0",
   "metadata": {},
   "outputs": [],
   "source": [
    "#Write a function outling how much i can save in a year at 500 naira per day \n",
    "# also do the same for how many perecnt i can grow a 50 dollar account with an aveerage profit of 20 dollars per week \n",
    " "
   ]
  },
  {
   "cell_type": "code",
   "execution_count": 4,
   "id": "1beb1c36-1c4d-4b6e-9682-73988e092eb0",
   "metadata": {},
   "outputs": [],
   "source": [
    "#Example\n",
    "def seed_calculator(fountain_side, grass_width):\n",
    "    \"\"\"\n",
    "    Calculate number of kilograms of grass seed needed for\n",
    "    a border around a square fountain.\n",
    "\n",
    "        Parameters:\n",
    "            fountain_side (num): length of 1 side of fountain in meters\n",
    "            grass_width (num): width of grass border in meters\n",
    "\n",
    "        Returns:\n",
    "            seed (float): amount of seed (kg) needed for grass border\n",
    "    \"\"\"\n",
    "\n",
    "    # Area of fountain\n",
    "    fountain_area = fountain_side**2\n",
    "\n",
    "    # Area of grass border (corrected)\n",
    "    grass_border_area = (fountain_side + 2 * grass_width) * 4 * grass_width\n",
    "\n",
    "    # Total area (corrected)\n",
    "    total_area = fountain_area + grass_border_area\n",
    "\n",
    "    # Amount of seed needed (35 g/sq.m)\n",
    "    seed_needed_per_area = 0.035  # Convert to kg/sq.m for easier calculation\n",
    "    seed = total_area * seed_needed_per_area\n",
    "\n",
    "    return seed"
   ]
  },
  {
   "cell_type": "code",
   "execution_count": 6,
   "id": "e25081fe-f475-4657-81a7-63e3ff2b258c",
   "metadata": {},
   "outputs": [
    {
     "data": {
      "text/plain": [
       "40.46"
      ]
     },
     "execution_count": 6,
     "metadata": {},
     "output_type": "execute_result"
    }
   ],
   "source": [
    "seed_calculator(14,8)"
   ]
  },
  {
   "cell_type": "code",
   "execution_count": 38,
   "id": "0c21e20d-957e-436f-986e-1482c094c2c2",
   "metadata": {},
   "outputs": [
    {
     "name": "stdout",
     "output_type": "stream",
     "text": [
      "False\n"
     ]
    }
   ],
   "source": [
    " #Boolean values\n",
    "# Comparators\n",
    "print(44>=56)"
   ]
  },
  {
   "cell_type": "code",
   "execution_count": 44,
   "id": "726fb767-8c26-4ac9-8f9e-62ec604786b1",
   "metadata": {},
   "outputs": [],
   "source": [
    "#Logical operators\n",
    "# an expression to determine the minimun nos of words in a user name \n",
    "def hint_username(username):\n",
    "    if len(username) < 8:\n",
    "        print(\"Invalid username. Must be at least 8 characters long\")\n",
    "    else:\n",
    "        print(\"Valid username\")"
   ]
  },
  {
   "cell_type": "code",
   "execution_count": 48,
   "id": "4f452655-e33d-4dc5-a8d2-b381b13e9ebe",
   "metadata": {},
   "outputs": [],
   "source": [
    "# Using modulo operator\n",
    "# A code that checks if a number is even by dividing it by 2 \n",
    "def is_even(number):\n",
    "    if number % 2 == 0:\n",
    "        return True \n",
    "#the else statement here is optional because the code will run til the last function on its own if the If statement proves false \n",
    "    else:\n",
    "        return False "
   ]
  },
  {
   "cell_type": "code",
   "execution_count": 50,
   "id": "52418b76-5cf6-4a6b-86ed-8acb19d681cb",
   "metadata": {},
   "outputs": [
    {
     "data": {
      "text/plain": [
       "True"
      ]
     },
     "execution_count": 50,
     "metadata": {},
     "output_type": "execute_result"
    }
   ],
   "source": [
    "is_even (56)"
   ]
  },
  {
   "cell_type": "code",
   "execution_count": 62,
   "id": "1a058403-8640-4ce1-8e08-d904cb3abe9d",
   "metadata": {},
   "outputs": [],
   "source": [
    "#elif statements\n",
    "def hint_username(username):\n",
    "    if len(username) < 8:\n",
    "        print(\"Invalid, Must be at least 8 characters long\")\n",
    "    elif len(username) > 15:\n",
    "        print (\"Username cannot be more than 15 characters\")\n",
    "    else:\n",
    "        print(\"Valid\")"
   ]
  },
  {
   "cell_type": "code",
   "execution_count": 64,
   "id": "ed723468-8254-4fa8-8519-1c1fbe3c2751",
   "metadata": {},
   "outputs": [
    {
     "name": "stdout",
     "output_type": "stream",
     "text": [
      "Valid\n"
     ]
    }
   ],
   "source": [
    "hint_username(\"GBHHBNJJNN\")"
   ]
  },
  {
   "cell_type": "code",
   "execution_count": 10,
   "id": "cb630103-8d22-4015-90b7-e096971ac06b",
   "metadata": {},
   "outputs": [],
   "source": [
    "#In your work as a data analyst for a movie theater, you're asked to quickly calculate how much the theater has made in sales so far.\n",
    "#magine that the price of tickets is $7.99.\n",
    "\n",
    "# Add a parameter to the function\n",
    "def total_sales(n):\n",
    "\n",
    "    # Multiply the parameter by the ticket price to get total sales\n",
    "    return n * 7.99"
   ]
  },
  {
   "cell_type": "code",
   "execution_count": 14,
   "id": "9cc38f7b-3c0b-4889-9841-c398f72abc9b",
   "metadata": {},
   "outputs": [
    {
     "data": {
      "text/plain": [
       "471.41"
      ]
     },
     "execution_count": 14,
     "metadata": {},
     "output_type": "execute_result"
    }
   ],
   "source": [
    "total_sales(59)"
   ]
  },
  {
   "cell_type": "markdown",
   "id": "be4a152e-7a0f-4120-ac03-ad9eb9afd7e4",
   "metadata": {},
   "source": [
    "Update your total_sales function so it accepts two parameters:\n",
    "\n",
    "price for the price per ticket\n",
    "num_tickets for the total number of tickets.\n",
    "Return the product of the two arguments. Use the Python round() function to round the returned value to two decimal places. "
   ]
  },
  {
   "cell_type": "code",
   "execution_count": 20,
   "id": "b341eb4d-ba1a-4b4b-b16c-16bbacddd311",
   "metadata": {},
   "outputs": [],
   "source": [
    "# Refine the `total_sales` function\n",
    "def total_sales(price, num_tickets):\n",
    "    return round(price * num_tickets, 2)"
   ]
  },
  {
   "cell_type": "code",
   "execution_count": 22,
   "id": "83fcd1fc-5724-420b-af8b-86a77566e3ce",
   "metadata": {},
   "outputs": [
    {
     "data": {
      "text/plain": [
       "16005.99"
      ]
     },
     "execution_count": 22,
     "metadata": {},
     "output_type": "execute_result"
    }
   ],
   "source": [
    "# Call the function with two values\n",
    "total_sales(15.99, 1001)"
   ]
  },
  {
   "cell_type": "markdown",
   "id": "5db09888-cd01-4aa9-84e9-d78097400c34",
   "metadata": {},
   "source": [
    "You are a data professional for a movie theater, and your task is to use customers' purchasing data to determine whether or not to send them a marketing email.\n",
    "\n",
    "Define a function called send_email that accepts the following arguments:\n",
    "num_visits - the number of times a customer has visited the theater\n",
    "visits_email - the minimum number of visits the customer must have made for them to receive a marketing email\n",
    "The function must print either: Send email. or Not enough vi\n",
    "\n",
    "```\n",
    " [IN] send_email(num_visits=3, visits_email=5)\n",
    "[OUT] 'Not enough visits.'\n",
    "\n",
    " [IN] send_email(num_visits=5, visits_email=5)\n",
    "[OUT] 'Send email.'sits."
   ]
  },
  {
   "cell_type": "code",
   "execution_count": 24,
   "id": "ec8666bf-bae9-4114-b34a-9c6f853139d1",
   "metadata": {},
   "outputs": [],
   "source": [
    "def send_email(num_visits, visits_email):\n",
    "    if num_visits >= visits_email:\n",
    "        print('Send email.')\n",
    "    else:\n",
    "        print('Not enough visits.')"
   ]
  },
  {
   "cell_type": "code",
   "execution_count": 26,
   "id": "2bb59d5b-bb58-4b87-a34a-ed50fce71d0e",
   "metadata": {},
   "outputs": [
    {
     "name": "stdout",
     "output_type": "stream",
     "text": [
      "Not enough visits.\n",
      "Send email.\n",
      "Send email.\n"
     ]
    }
   ],
   "source": [
    "send_email(num_visits=3, visits_email=5)    # Should print 'Not enough visits.'\n",
    "send_email(num_visits=5, visits_email=5)    # Should print 'Send email.'\n",
    "send_email(num_visits=15, visits_email=10)  # Should print 'Send email.'"
   ]
  },
  {
   "cell_type": "markdown",
   "id": "0d39ebf9-f427-4359-a865-45950a3a79fb",
   "metadata": {},
   "source": [
    "The theater is offering a promotion where customers who have visited the theater more than a designated number of times will also receive a coupon with their email. Update the function that you created above to include additional logical branching.\n",
    "\n",
    "Include an additional argument visits_coupon that represents the minimum number of visits the customer must have made for them to receive a coupon with their email.\n",
    "\n",
    "The function must print one of three possible messages:\n",
    "\n",
    "Send email with coupon.\n",
    "Send email only.\n",
    "Not enough visits.\n",
    "The minimum number of visits to receive a coupon will always be greater than the number to receive an email only.\n",
    "\n",
    "Example:\n",
    "\n",
    " [IN] send_email(num_visits=3, visits_email=5, visits_coupon=8)\n",
    "[OUT] 'Not enough visits.'\n",
    "\n",
    " [IN] send_email(num_visits=5, visits_email=5, visits_coupon=8)\n",
    "[OUT] `Send email only.`\n",
    "\n",
    " [IN] send_email(num_visits=8, visits_email=5, visits_coupon=8)\n",
    "[OUT] `Send email with coupon.`"
   ]
  },
  {
   "cell_type": "code",
   "execution_count": 41,
   "id": "55324685-cd2e-4aba-8c2e-2dff8f5ac746",
   "metadata": {},
   "outputs": [],
   "source": [
    "def send_email (num_visits,visits_email, visits_coupon):\n",
    "    if num_visits >= visits_coupon:\n",
    "        print('Send email with coupon.')\n",
    "    elif num_visits >= visits_email:\n",
    "        print (\"send email only\")\n",
    "    else:\n",
    "        print(\"not enough visits\")"
   ]
  },
  {
   "cell_type": "code",
   "execution_count": 43,
   "id": "4eded9ae-0ace-4ee0-9a43-b272b588adab",
   "metadata": {},
   "outputs": [
    {
     "name": "stdout",
     "output_type": "stream",
     "text": [
      "not enough visits\n",
      "send email only\n",
      "send email only\n",
      "Send email with coupon.\n",
      "Send email with coupon.\n"
     ]
    }
   ],
   "source": [
    "send_email(num_visits=3, visits_email=5, visits_coupon=8)   # Should print 'Not enough visits.'\n",
    "send_email(num_visits=5, visits_email=5, visits_coupon=8)   # Should print 'Send email only.'\n",
    "send_email(num_visits=6, visits_email=5, visits_coupon=8)   # Should print 'Send email only.'\n",
    "send_email(num_visits=8, visits_email=5, visits_coupon=8)   # Should print 'Send email with coupon.'\n",
    "send_email(num_visits=10, visits_email=5, visits_coupon=8)  # Should print 'Send email with coupon.'"
   ]
  },
  {
   "cell_type": "code",
   "execution_count": 5,
   "id": "adc9ea45-812f-489f-9d47-5c3ccfba69d5",
   "metadata": {},
   "outputs": [
    {
     "name": "stdout",
     "output_type": "stream",
     "text": [
      "Guess a number between 1 and 25: \n"
     ]
    },
    {
     "name": "stdout",
     "output_type": "stream",
     "text": [
      " 11\n"
     ]
    },
    {
     "name": "stdout",
     "output_type": "stream",
     "text": [
      "Nope! Try again.\n",
      "Guess a number between 1 and 25: \n"
     ]
    },
    {
     "name": "stdout",
     "output_type": "stream",
     "text": [
      " 22\n"
     ]
    },
    {
     "name": "stdout",
     "output_type": "stream",
     "text": [
      "Nope! Try again.\n",
      "Guess a number between 1 and 25: \n"
     ]
    },
    {
     "name": "stdout",
     "output_type": "stream",
     "text": [
      " 23\n"
     ]
    },
    {
     "name": "stdout",
     "output_type": "stream",
     "text": [
      "Nope! Try again.\n",
      "Guess a number between 1 and 25: \n"
     ]
    },
    {
     "name": "stdout",
     "output_type": "stream",
     "text": [
      " 16\n"
     ]
    },
    {
     "name": "stdout",
     "output_type": "stream",
     "text": [
      "Nope! Try again.\n",
      "Guess a number between 1 and 25: \n"
     ]
    },
    {
     "name": "stdout",
     "output_type": "stream",
     "text": [
      " 13\n"
     ]
    },
    {
     "name": "stdout",
     "output_type": "stream",
     "text": [
      "You did not guess the number. The number was 1.\n"
     ]
    }
   ],
   "source": [
    "# Import the random module to be able to create a (pseudo) random number.\n",
    "import random\n",
    "\n",
    "number = random.randint(1,25)                   # Generate random number\n",
    "number_of_guesses = 0                           # Instantiate guess counter\n",
    "\n",
    "while number_of_guesses < 5:\n",
    "    print('Guess a number between 1 and 25: ')  # Tell user to guess number\n",
    "    guess = input()                             # Produce the user input field\n",
    "    guess = int(guess)                          # Convert guess to integer\n",
    "    number_of_guesses += 1                      # Increment guess count by 1\n",
    "\n",
    "    if guess == number:                         # Break while loop if guess is correct\n",
    "        break\n",
    "    elif number_of_guesses == 5:                # Break while loop if guess limit reached\n",
    "        break\n",
    "    else:                                       # Tell user to try again\n",
    "        print('Nope! Try again.')\n",
    "\n",
    "# Message to display if correct\n",
    "if guess == number:\n",
    "    print('Correct! You guessed the number in ' + str(number_of_guesses) + ' tries!')\n",
    "# Message to display after 5 unsuccessful guesses\n",
    "else:\n",
    "    print('You did not guess the number. The number was ' + str(number) + '.')"
   ]
  },
  {
   "cell_type": "code",
   "execution_count": 7,
   "id": "81b8632e-0a55-4f69-a4b5-0efdc9bcc15d",
   "metadata": {},
   "outputs": [
    {
     "name": "stdout",
     "output_type": "stream",
     "text": [
      "Guess a number between 1 and 25: \n"
     ]
    },
    {
     "name": "stdout",
     "output_type": "stream",
     "text": [
      " 22\n"
     ]
    },
    {
     "name": "stdout",
     "output_type": "stream",
     "text": [
      "Nope! Try again.\n",
      "Guess a number between 1 and 25: \n"
     ]
    },
    {
     "name": "stdout",
     "output_type": "stream",
     "text": [
      " 34\n"
     ]
    },
    {
     "name": "stdout",
     "output_type": "stream",
     "text": [
      "Nope! Try again.\n",
      "Guess a number between 1 and 25: \n"
     ]
    },
    {
     "name": "stdout",
     "output_type": "stream",
     "text": [
      " 11\n"
     ]
    },
    {
     "name": "stdout",
     "output_type": "stream",
     "text": [
      "Nope! Try again.\n",
      "Guess a number between 1 and 25: \n"
     ]
    },
    {
     "name": "stdout",
     "output_type": "stream",
     "text": [
      " 15\n"
     ]
    },
    {
     "name": "stdout",
     "output_type": "stream",
     "text": [
      "Nope! Try again.\n",
      "Guess a number between 1 and 25: \n"
     ]
    },
    {
     "name": "stdout",
     "output_type": "stream",
     "text": [
      " 13\n"
     ]
    },
    {
     "name": "stdout",
     "output_type": "stream",
     "text": [
      "Nope! Try again.\n",
      "You did not guess the number. The number was 20.\n"
     ]
    }
   ],
   "source": [
    "# Import the random module to be able to create a (pseudo) random number.\n",
    "import random\n",
    "\n",
    "number = random.randint(1,25)                   # Generate random number\n",
    "number_of_guesses = 0                           # Instantiate guess counter\n",
    "\n",
    "while number_of_guesses < 5:\n",
    "    print('Guess a number between 1 and 25: ')  # Tell user to guess number\n",
    "    guess = input()                             # Produce the user input field\n",
    "    guess = int(guess)                          # Convert guess to integer\n",
    "    number_of_guesses += 1                      # Increment guess count by 1\n",
    "\n",
    "    if guess == number:                         # Break while loop if guess is correct\n",
    "        break\n",
    "    else:                                       # Tell user to try again\n",
    "        print('Nope! Try again.')\n",
    "\n",
    "# Message to display if correct\n",
    "if guess == number:\n",
    "    print('Correct! You guessed the number in ' + str(number_of_guesses) + ' tries!')\n",
    "# Message to display after 5 unsuccessful guesses\n",
    "else:\n",
    "    print('You did not guess the number. The number was ' + str(number) + '.')"
   ]
  },
  {
   "cell_type": "code",
   "execution_count": 11,
   "id": "a127f880-3635-4b17-ab1b-e05bc173e292",
   "metadata": {},
   "outputs": [
    {
     "name": "stdout",
     "output_type": "stream",
     "text": [
      "2\n",
      "4\n",
      "6\n",
      "8\n",
      "10\n",
      "12\n",
      "14\n",
      "16\n",
      "18\n",
      "20\n",
      "22\n",
      "24\n",
      "26\n",
      "28\n",
      "30\n",
      "32\n",
      "34\n",
      "36\n",
      "38\n",
      "40\n",
      "42\n",
      "44\n",
      "46\n",
      "48\n",
      "50\n",
      "52\n",
      "54\n",
      "56\n",
      "58\n",
      "60\n",
      "62\n",
      "64\n",
      "66\n",
      "68\n",
      "70\n",
      "72\n",
      "74\n",
      "76\n",
      "78\n",
      "80\n",
      "82\n",
      "84\n",
      "86\n",
      "88\n",
      "90\n",
      "92\n",
      "94\n",
      "96\n",
      "98\n",
      "100\n",
      "102\n",
      "104\n",
      "106\n",
      "108\n",
      "110\n",
      "112\n",
      "114\n",
      "116\n",
      "118\n",
      "120\n",
      "122\n",
      "124\n",
      "126\n",
      "128\n",
      "130\n",
      "132\n",
      "134\n",
      "136\n",
      "138\n",
      "140\n",
      "142\n",
      "144\n",
      "146\n",
      "148\n",
      "150\n",
      "152\n",
      "154\n",
      "156\n",
      "158\n",
      "160\n",
      "162\n",
      "164\n",
      "166\n",
      "168\n",
      "170\n",
      "172\n",
      "174\n",
      "176\n",
      "178\n",
      "180\n",
      "182\n",
      "184\n",
      "186\n",
      "188\n",
      "190\n",
      "192\n",
      "194\n",
      "196\n",
      "198\n",
      "200\n",
      "202\n",
      "204\n",
      "206\n",
      "208\n",
      "210\n",
      "212\n",
      "214\n",
      "216\n",
      "218\n",
      "220\n",
      "222\n",
      "224\n",
      "226\n",
      "228\n",
      "230\n",
      "232\n",
      "234\n",
      "236\n",
      "238\n",
      "240\n",
      "242\n",
      "244\n",
      "246\n",
      "248\n",
      "250\n",
      "252\n",
      "254\n",
      "256\n",
      "258\n",
      "260\n",
      "262\n",
      "264\n",
      "266\n",
      "268\n",
      "270\n",
      "272\n",
      "274\n",
      "276\n",
      "278\n",
      "280\n",
      "282\n",
      "284\n",
      "286\n",
      "288\n",
      "290\n",
      "292\n",
      "294\n",
      "296\n",
      "298\n"
     ]
    }
   ],
   "source": [
    "x = 2\n",
    "while x < 300:\n",
    "    print(x)\n",
    "    x = x+2"
   ]
  },
  {
   "cell_type": "code",
   "execution_count": 1,
   "id": "7ddea4be-0cca-4eea-8b32-223a854b668b",
   "metadata": {},
   "outputs": [
    {
     "name": "stdout",
     "output_type": "stream",
     "text": [
      "Igor\n",
      "Sokolov\n",
      "\n",
      "Riko\n",
      "Miyazaki\n",
      "\n",
      "Tuva\n",
      "Johansen\n",
      "\n"
     ]
    }
   ],
   "source": [
    "# nested loops\n",
    "students = [['Igor', 'Sokolov'], ['Riko', 'Miyazaki'], ['Tuva', 'Johansen']]\n",
    "for student in students:\n",
    "   for name in student:\n",
    "       print(name)\n",
    "   print()"
   ]
  },
  {
   "cell_type": "markdown",
   "id": "89991d51-8db4-459f-ab80-a2255ec8cef3",
   "metadata": {},
   "source": [
    "In this example, the students variable contains a list of three lists. Each inner list contains two elements: a given name and a surname. The first for loop iterates over the inner lists. The second (nested) for loop iterates over each name in each inner list and prints the name. After each iteration of the outer loop, the program uses an empty print statement to print a new line. \n"
   ]
  },
  {
   "cell_type": "code",
   "execution_count": null,
   "id": "4063c9b4-2b3f-4b97-8469-5f1c0d009625",
   "metadata": {},
   "outputs": [],
   "source": []
  },
  {
   "cell_type": "code",
   "execution_count": null,
   "id": "27ba5061-ee85-48a5-af77-1feb64d80f24",
   "metadata": {},
   "outputs": [],
   "source": []
  },
  {
   "cell_type": "code",
   "execution_count": null,
   "id": "b833d5f0-1be0-43bc-94c5-f11f7ec3a99e",
   "metadata": {},
   "outputs": [],
   "source": []
  },
  {
   "cell_type": "code",
   "execution_count": null,
   "id": "c4a6f5a8-4393-435b-88ac-ffc6ea1beb4b",
   "metadata": {},
   "outputs": [],
   "source": []
  },
  {
   "cell_type": "code",
   "execution_count": null,
   "id": "e8525fb2-e2a3-423a-85bc-ac364cba1b00",
   "metadata": {},
   "outputs": [],
   "source": []
  },
  {
   "cell_type": "code",
   "execution_count": null,
   "id": "7cf89229-7155-4772-be18-ad7adfd2eb4f",
   "metadata": {},
   "outputs": [],
   "source": []
  }
 ],
 "metadata": {
  "kernelspec": {
   "display_name": "Python 3",
   "language": "python",
   "name": "python3"
  },
  "language_info": {
   "codemirror_mode": {
    "name": "ipython",
    "version": 3
   },
   "file_extension": ".py",
   "mimetype": "text/x-python",
   "name": "python",
   "nbconvert_exporter": "python",
   "pygments_lexer": "ipython3",
   "version": "3.12.7"
  }
 },
 "nbformat": 4,
 "nbformat_minor": 5
}
