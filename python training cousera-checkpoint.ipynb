{
 "cells": [
  {
   "cell_type": "code",
   "execution_count": 1,
   "id": "7dc7ccc9-36b4-4a61-8f11-6cae974aae90",
   "metadata": {},
   "outputs": [
    {
     "name": "stdout",
     "output_type": "stream",
     "text": [
      "Hello world\n"
     ]
    }
   ],
   "source": [
    "print(\"Hello world\")"
   ]
  },
  {
   "cell_type": "code",
   "execution_count": 1,
   "id": "ee33648f-37b7-44ed-b274-d1854b00757e",
   "metadata": {},
   "outputs": [
    {
     "data": {
      "text/plain": [
       "False"
      ]
     },
     "execution_count": 1,
     "metadata": {},
     "output_type": "execute_result"
    }
   ],
   "source": [
    "100**3 == 1000"
   ]
  },
  {
   "cell_type": "code",
   "execution_count": 11,
   "id": "55db7c36-958e-41b2-84f1-d73c5e8c9320",
   "metadata": {},
   "outputs": [],
   "source": [
    "age = 30"
   ]
  },
  {
   "cell_type": "code",
   "execution_count": 12,
   "id": "16b2d4cd-ed6d-4e0b-86c7-56942e383194",
   "metadata": {},
   "outputs": [
    {
     "name": "stdout",
     "output_type": "stream",
     "text": [
      "adult\n"
     ]
    }
   ],
   "source": [
    "if age >=16:\n",
    "    print (\"adult\")\n",
    "else:\n",
    "    print (\"minor\")"
   ]
  },
  {
   "cell_type": "code",
   "execution_count": 18,
   "id": "912cbf86-3de6-4256-a040-c600442262e6",
   "metadata": {},
   "outputs": [],
   "source": [
    "def paz(age):\n",
    "\n",
    "    if age >=16:\n",
    "        print (\"adult\")\n",
    "    else:\n",
    "        print (\"minor\")"
   ]
  },
  {
   "cell_type": "code",
   "execution_count": 17,
   "id": "7fd00a7a-a748-4270-955b-c785d52707e8",
   "metadata": {},
   "outputs": [
    {
     "name": "stdout",
     "output_type": "stream",
     "text": [
      "minor\n"
     ]
    }
   ],
   "source": [
    "paz(3)"
   ]
  },
  {
   "cell_type": "markdown",
   "id": "08f478bf-bfc7-4917-b948-68e8ccf73ebd",
   "metadata": {},
   "source": [
    "Methods"
   ]
  },
  {
   "cell_type": "code",
   "execution_count": 20,
   "id": "a8193a4d-ee5a-47eb-aecf-ea820d15acdd",
   "metadata": {
    "editable": true,
    "slideshow": {
     "slide_type": ""
    },
    "tags": []
   },
   "outputs": [
    {
     "name": "stdout",
     "output_type": "stream",
     "text": [
      "<class 'str'>\n"
     ]
    }
   ],
   "source": [
    "magic = 'hocus pocus'\n",
    "print(type(magic))"
   ]
  },
  {
   "cell_type": "code",
   "execution_count": 21,
   "id": "2f6374ec-2103-4a01-84c5-5bc799135142",
   "metadata": {},
   "outputs": [
    {
     "data": {
      "text/plain": [
       "'HOCUS POCUS'"
      ]
     },
     "execution_count": 21,
     "metadata": {},
     "output_type": "execute_result"
    }
   ],
   "source": [
    "magic = magic.swapcase()\n",
    "magic"
   ]
  },
  {
   "cell_type": "code",
   "execution_count": 24,
   "id": "64d5349c-a3cd-43c3-be54-7bd318b7d2db",
   "metadata": {},
   "outputs": [
    {
     "data": {
      "text/plain": [
       "'HOPAR POPAR'"
      ]
     },
     "execution_count": 24,
     "metadata": {},
     "output_type": "execute_result"
    }
   ],
   "source": [
    "magic = magic.replace ('CUS' , 'PAR')\n",
    "magic"
   ]
  },
  {
   "cell_type": "code",
   "execution_count": 26,
   "id": "1d5aac6c-e94d-4ee0-a38f-6617488ce72e",
   "metadata": {},
   "outputs": [
    {
     "data": {
      "text/plain": [
       "['HOPAR', 'POPAR']"
      ]
     },
     "execution_count": 26,
     "metadata": {},
     "output_type": "execute_result"
    }
   ],
   "source": [
    " magic = magic.split()\n",
    "magic"
   ]
  },
  {
   "cell_type": "markdown",
   "id": "7b4bbd63-0d31-4120-8b11-59b0f77a7e9e",
   "metadata": {},
   "source": [
    "Variable"
   ]
  },
  {
   "cell_type": "code",
   "execution_count": 5,
   "id": "2987ac10-efbc-4c05-9906-1634d2774ca4",
   "metadata": {},
   "outputs": [],
   "source": [
    "age_list = [34, 25,23, 22,29]\n"
   ]
  },
  {
   "cell_type": "code",
   "execution_count": 6,
   "id": "a1b5180b-a498-4306-b583-588b903a3869",
   "metadata": {},
   "outputs": [
    {
     "data": {
      "text/plain": [
       "34"
      ]
     },
     "execution_count": 6,
     "metadata": {},
     "output_type": "execute_result"
    }
   ],
   "source": [
    "max_age = max(age_list)\n",
    "max_age"
   ]
  },
  {
   "cell_type": "code",
   "execution_count": 4,
   "id": "839cbf4a-1e57-4aa0-9323-eaaafee32def",
   "metadata": {},
   "outputs": [
    {
     "data": {
      "text/plain": [
       "'34'"
      ]
     },
     "execution_count": 4,
     "metadata": {},
     "output_type": "execute_result"
    }
   ],
   "source": [
    "max_age = str(max_age)\n",
    "max_age"
   ]
  },
  {
   "cell_type": "code",
   "execution_count": 7,
   "id": "ea14fe69-247a-422c-9cd4-6c4dbebf163e",
   "metadata": {},
   "outputs": [
    {
     "data": {
      "text/plain": [
       "34"
      ]
     },
     "execution_count": 7,
     "metadata": {},
     "output_type": "execute_result"
    }
   ],
   "source": [
    "max_age"
   ]
  },
  {
   "cell_type": "code",
   "execution_count": 20,
   "id": "9bb80e54-c030-4140-9438-95d05fe47a11",
   "metadata": {},
   "outputs": [],
   "source": [
    "First_name = 'Paschal '\n",
    "Last_name = 'Mgbecheta' "
   ]
  },
  {
   "cell_type": "code",
   "execution_count": 22,
   "id": "2aab8c3e-0e86-45de-aa21-63a85234c74e",
   "metadata": {},
   "outputs": [
    {
     "data": {
      "text/plain": [
       "'Paschal Mgbecheta'"
      ]
     },
     "execution_count": 22,
     "metadata": {},
     "output_type": "execute_result"
    }
   ],
   "source": [
    "Full_name = First_name + Last_name\n",
    "Full_name"
   ]
  },
  {
   "cell_type": "markdown",
   "id": "f25ae5a7-955a-406a-ab66-75388ab51b96",
   "metadata": {},
   "source": [
    "Defining a function using a 'def' keyword"
   ]
  },
  {
   "cell_type": "code",
   "execution_count": 16,
   "id": "3a1ab117-00cf-405c-bc1b-a196e950d7bb",
   "metadata": {},
   "outputs": [],
   "source": [
    "def demo_function(name):\n",
    "    print(\"Who asked you \" + name)\n",
    "    print(\"now get out!\")\n",
    "    "
   ]
  },
  {
   "cell_type": "code",
   "execution_count": 18,
   "id": "7e32f996-4205-494e-8126-c0ca09ad07e8",
   "metadata": {},
   "outputs": [
    {
     "name": "stdout",
     "output_type": "stream",
     "text": [
      "Who asked you Ella\n",
      "now get out!\n"
     ]
    }
   ],
   "source": [
    "demo_function(\"Ella\")"
   ]
  },
  {
   "cell_type": "markdown",
   "id": "b3685abe-0081-46b3-a5d9-9bee4e203785",
   "metadata": {},
   "source": [
    "Using 'return' keyword "
   ]
  },
  {
   "cell_type": "code",
   "execution_count": 28,
   "id": "4350b19c-b493-4318-b513-56b529f7f2d0",
   "metadata": {},
   "outputs": [],
   "source": [
    "def acceleration(distance, time):\n",
    "    return distance / time"
   ]
  },
  {
   "cell_type": "code",
   "execution_count": 32,
   "id": "e2c96f9b-d0a8-488e-b8ea-873204a9d765",
   "metadata": {},
   "outputs": [
    {
     "data": {
      "text/plain": [
       "24.702380952380953"
      ]
     },
     "execution_count": 32,
     "metadata": {},
     "output_type": "execute_result"
    }
   ],
   "source": [
    "motor_a = acceleration(100, 7)\n",
    "motor_b = acceleration(250, 24)\n",
    "\n",
    "Total_acceleration = motor_a + motor_b\n",
    "Total_acceleration"
   ]
  },
  {
   "cell_type": "code",
   "execution_count": 34,
   "id": "f9bebb3f-b42d-4559-865c-48f77ad682c0",
   "metadata": {},
   "outputs": [],
   "source": [
    "#Write a function outling how much i can save in a year at 500 naira per day \n",
    "# also do the same for how many perecnt i can grow a 50 dollar account with an aveerage profit of 20 dollars per week \n",
    " "
   ]
  },
  {
   "cell_type": "code",
   "execution_count": 4,
   "id": "1beb1c36-1c4d-4b6e-9682-73988e092eb0",
   "metadata": {},
   "outputs": [],
   "source": [
    "#Example\n",
    "def seed_calculator(fountain_side, grass_width):\n",
    "    \"\"\"\n",
    "    Calculate number of kilograms of grass seed needed for\n",
    "    a border around a square fountain.\n",
    "\n",
    "        Parameters:\n",
    "            fountain_side (num): length of 1 side of fountain in meters\n",
    "            grass_width (num): width of grass border in meters\n",
    "\n",
    "        Returns:\n",
    "            seed (float): amount of seed (kg) needed for grass border\n",
    "    \"\"\"\n",
    "\n",
    "    # Area of fountain\n",
    "    fountain_area = fountain_side**2\n",
    "\n",
    "    # Area of grass border (corrected)\n",
    "    grass_border_area = (fountain_side + 2 * grass_width) * 4 * grass_width\n",
    "\n",
    "    # Total area (corrected)\n",
    "    total_area = fountain_area + grass_border_area\n",
    "\n",
    "    # Amount of seed needed (35 g/sq.m)\n",
    "    seed_needed_per_area = 0.035  # Convert to kg/sq.m for easier calculation\n",
    "    seed = total_area * seed_needed_per_area\n",
    "\n",
    "    return seed"
   ]
  },
  {
   "cell_type": "code",
   "execution_count": 6,
   "id": "e25081fe-f475-4657-81a7-63e3ff2b258c",
   "metadata": {},
   "outputs": [
    {
     "data": {
      "text/plain": [
       "40.46"
      ]
     },
     "execution_count": 6,
     "metadata": {},
     "output_type": "execute_result"
    }
   ],
   "source": [
    "seed_calculator(14,8)"
   ]
  },
  {
   "cell_type": "code",
   "execution_count": 38,
   "id": "0c21e20d-957e-436f-986e-1482c094c2c2",
   "metadata": {},
   "outputs": [
    {
     "name": "stdout",
     "output_type": "stream",
     "text": [
      "False\n"
     ]
    }
   ],
   "source": [
    " #Boolean values\n",
    "# Comparators\n",
    "print(44>=56)"
   ]
  },
  {
   "cell_type": "code",
   "execution_count": 44,
   "id": "726fb767-8c26-4ac9-8f9e-62ec604786b1",
   "metadata": {},
   "outputs": [],
   "source": [
    "#Logical operators\n",
    "# an expression to determine the minimun nos of words in a user name \n",
    "def hint_username(username):\n",
    "    if len(username) < 8:\n",
    "        print(\"Invalid username. Must be at least 8 characters long\")\n",
    "    else:\n",
    "        print(\"Valid username\")"
   ]
  },
  {
   "cell_type": "code",
   "execution_count": 48,
   "id": "4f452655-e33d-4dc5-a8d2-b381b13e9ebe",
   "metadata": {},
   "outputs": [],
   "source": [
    "# Using modulo operator\n",
    "# A code that checks if a number is even by dividing it by 2 \n",
    "def is_even(number):\n",
    "    if number % 2 == 0:\n",
    "        return True \n",
    "#the else statement here is optional because the code will run til the last function on its own if the If statement proves false \n",
    "    else:\n",
    "        return False "
   ]
  },
  {
   "cell_type": "code",
   "execution_count": 50,
   "id": "52418b76-5cf6-4a6b-86ed-8acb19d681cb",
   "metadata": {},
   "outputs": [
    {
     "data": {
      "text/plain": [
       "True"
      ]
     },
     "execution_count": 50,
     "metadata": {},
     "output_type": "execute_result"
    }
   ],
   "source": [
    "is_even (56)"
   ]
  },
  {
   "cell_type": "code",
   "execution_count": 62,
   "id": "1a058403-8640-4ce1-8e08-d904cb3abe9d",
   "metadata": {},
   "outputs": [],
   "source": [
    "#elif statements\n",
    "def hint_username(username):\n",
    "    if len(username) < 8:\n",
    "        print(\"Invalid, Must be at least 8 characters long\")\n",
    "    elif len(username) > 15:\n",
    "        print (\"Username cannot be more than 15 characters\")\n",
    "    else:\n",
    "        print(\"Valid\")"
   ]
  },
  {
   "cell_type": "code",
   "execution_count": 64,
   "id": "ed723468-8254-4fa8-8519-1c1fbe3c2751",
   "metadata": {},
   "outputs": [
    {
     "name": "stdout",
     "output_type": "stream",
     "text": [
      "Valid\n"
     ]
    }
   ],
   "source": [
    "hint_username(\"GBHHBNJJNN\")"
   ]
  },
  {
   "cell_type": "code",
   "execution_count": 10,
   "id": "cb630103-8d22-4015-90b7-e096971ac06b",
   "metadata": {},
   "outputs": [],
   "source": [
    "#In your work as a data analyst for a movie theater, you're asked to quickly calculate how much the theater has made in sales so far.\n",
    "#magine that the price of tickets is $7.99.\n",
    "\n",
    "# Add a parameter to the function\n",
    "def total_sales(n):\n",
    "\n",
    "    # Multiply the parameter by the ticket price to get total sales\n",
    "    return n * 7.99"
   ]
  },
  {
   "cell_type": "code",
   "execution_count": 14,
   "id": "9cc38f7b-3c0b-4889-9841-c398f72abc9b",
   "metadata": {},
   "outputs": [
    {
     "data": {
      "text/plain": [
       "471.41"
      ]
     },
     "execution_count": 14,
     "metadata": {},
     "output_type": "execute_result"
    }
   ],
   "source": [
    "total_sales(59)"
   ]
  },
  {
   "cell_type": "markdown",
   "id": "be4a152e-7a0f-4120-ac03-ad9eb9afd7e4",
   "metadata": {},
   "source": [
    "Update your total_sales function so it accepts two parameters:\n",
    "\n",
    "price for the price per ticket\n",
    "num_tickets for the total number of tickets.\n",
    "Return the product of the two arguments. Use the Python round() function to round the returned value to two decimal places. "
   ]
  },
  {
   "cell_type": "code",
   "execution_count": 20,
   "id": "b341eb4d-ba1a-4b4b-b16c-16bbacddd311",
   "metadata": {},
   "outputs": [],
   "source": [
    "# Refine the `total_sales` function\n",
    "def total_sales(price, num_tickets):\n",
    "    return round(price * num_tickets, 2)"
   ]
  },
  {
   "cell_type": "code",
   "execution_count": 22,
   "id": "83fcd1fc-5724-420b-af8b-86a77566e3ce",
   "metadata": {},
   "outputs": [
    {
     "data": {
      "text/plain": [
       "16005.99"
      ]
     },
     "execution_count": 22,
     "metadata": {},
     "output_type": "execute_result"
    }
   ],
   "source": [
    "# Call the function with two values\n",
    "total_sales(15.99, 1001)"
   ]
  },
  {
   "cell_type": "markdown",
   "id": "5db09888-cd01-4aa9-84e9-d78097400c34",
   "metadata": {},
   "source": [
    "You are a data professional for a movie theater, and your task is to use customers' purchasing data to determine whether or not to send them a marketing email.\n",
    "\n",
    "Define a function called send_email that accepts the following arguments:\n",
    "num_visits - the number of times a customer has visited the theater\n",
    "visits_email - the minimum number of visits the customer must have made for them to receive a marketing email\n",
    "The function must print either: Send email. or Not enough vi\n",
    "\n",
    "```\n",
    " [IN] send_email(num_visits=3, visits_email=5)\n",
    "[OUT] 'Not enough visits.'\n",
    "\n",
    " [IN] send_email(num_visits=5, visits_email=5)\n",
    "[OUT] 'Send email.'sits."
   ]
  },
  {
   "cell_type": "code",
   "execution_count": 24,
   "id": "ec8666bf-bae9-4114-b34a-9c6f853139d1",
   "metadata": {},
   "outputs": [],
   "source": [
    "def send_email(num_visits, visits_email):\n",
    "    if num_visits >= visits_email:\n",
    "        print('Send email.')\n",
    "    else:\n",
    "        print('Not enough visits.')"
   ]
  },
  {
   "cell_type": "code",
   "execution_count": 26,
   "id": "2bb59d5b-bb58-4b87-a34a-ed50fce71d0e",
   "metadata": {},
   "outputs": [
    {
     "name": "stdout",
     "output_type": "stream",
     "text": [
      "Not enough visits.\n",
      "Send email.\n",
      "Send email.\n"
     ]
    }
   ],
   "source": [
    "send_email(num_visits=3, visits_email=5)    # Should print 'Not enough visits.'\n",
    "send_email(num_visits=5, visits_email=5)    # Should print 'Send email.'\n",
    "send_email(num_visits=15, visits_email=10)  # Should print 'Send email.'"
   ]
  },
  {
   "cell_type": "markdown",
   "id": "0d39ebf9-f427-4359-a865-45950a3a79fb",
   "metadata": {},
   "source": [
    "The theater is offering a promotion where customers who have visited the theater more than a designated number of times will also receive a coupon with their email. Update the function that you created above to include additional logical branching.\n",
    "\n",
    "Include an additional argument visits_coupon that represents the minimum number of visits the customer must have made for them to receive a coupon with their email.\n",
    "\n",
    "The function must print one of three possible messages:\n",
    "\n",
    "Send email with coupon.\n",
    "Send email only.\n",
    "Not enough visits.\n",
    "The minimum number of visits to receive a coupon will always be greater than the number to receive an email only.\n",
    "\n",
    "Example:\n",
    "\n",
    " [IN] send_email(num_visits=3, visits_email=5, visits_coupon=8)\n",
    "[OUT] 'Not enough visits.'\n",
    "\n",
    " [IN] send_email(num_visits=5, visits_email=5, visits_coupon=8)\n",
    "[OUT] `Send email only.`\n",
    "\n",
    " [IN] send_email(num_visits=8, visits_email=5, visits_coupon=8)\n",
    "[OUT] `Send email with coupon.`"
   ]
  },
  {
   "cell_type": "code",
   "execution_count": 41,
   "id": "55324685-cd2e-4aba-8c2e-2dff8f5ac746",
   "metadata": {},
   "outputs": [],
   "source": [
    "def send_email (num_visits,visits_email, visits_coupon):\n",
    "    if num_visits >= visits_coupon:\n",
    "        print('Send email with coupon.')\n",
    "    elif num_visits >= visits_email:\n",
    "        print (\"send email only\")\n",
    "    else:\n",
    "        print(\"not enough visits\")"
   ]
  },
  {
   "cell_type": "code",
   "execution_count": 43,
   "id": "4eded9ae-0ace-4ee0-9a43-b272b588adab",
   "metadata": {},
   "outputs": [
    {
     "name": "stdout",
     "output_type": "stream",
     "text": [
      "not enough visits\n",
      "send email only\n",
      "send email only\n",
      "Send email with coupon.\n",
      "Send email with coupon.\n"
     ]
    }
   ],
   "source": [
    "send_email(num_visits=3, visits_email=5, visits_coupon=8)   # Should print 'Not enough visits.'\n",
    "send_email(num_visits=5, visits_email=5, visits_coupon=8)   # Should print 'Send email only.'\n",
    "send_email(num_visits=6, visits_email=5, visits_coupon=8)   # Should print 'Send email only.'\n",
    "send_email(num_visits=8, visits_email=5, visits_coupon=8)   # Should print 'Send email with coupon.'\n",
    "send_email(num_visits=10, visits_email=5, visits_coupon=8)  # Should print 'Send email with coupon.'"
   ]
  },
  {
   "cell_type": "code",
   "execution_count": 5,
   "id": "adc9ea45-812f-489f-9d47-5c3ccfba69d5",
   "metadata": {},
   "outputs": [
    {
     "name": "stdout",
     "output_type": "stream",
     "text": [
      "Guess a number between 1 and 25: \n"
     ]
    },
    {
     "name": "stdout",
     "output_type": "stream",
     "text": [
      " 11\n"
     ]
    },
    {
     "name": "stdout",
     "output_type": "stream",
     "text": [
      "Nope! Try again.\n",
      "Guess a number between 1 and 25: \n"
     ]
    },
    {
     "name": "stdout",
     "output_type": "stream",
     "text": [
      " 22\n"
     ]
    },
    {
     "name": "stdout",
     "output_type": "stream",
     "text": [
      "Nope! Try again.\n",
      "Guess a number between 1 and 25: \n"
     ]
    },
    {
     "name": "stdout",
     "output_type": "stream",
     "text": [
      " 23\n"
     ]
    },
    {
     "name": "stdout",
     "output_type": "stream",
     "text": [
      "Nope! Try again.\n",
      "Guess a number between 1 and 25: \n"
     ]
    },
    {
     "name": "stdout",
     "output_type": "stream",
     "text": [
      " 16\n"
     ]
    },
    {
     "name": "stdout",
     "output_type": "stream",
     "text": [
      "Nope! Try again.\n",
      "Guess a number between 1 and 25: \n"
     ]
    },
    {
     "name": "stdout",
     "output_type": "stream",
     "text": [
      " 13\n"
     ]
    },
    {
     "name": "stdout",
     "output_type": "stream",
     "text": [
      "You did not guess the number. The number was 1.\n"
     ]
    }
   ],
   "source": [
    "# Import the random module to be able to create a (pseudo) random number.\n",
    "import random\n",
    "\n",
    "number = random.randint(1,25)                   # Generate random number\n",
    "number_of_guesses = 0                           # Instantiate guess counter\n",
    "\n",
    "while number_of_guesses < 5:\n",
    "    print('Guess a number between 1 and 25: ')  # Tell user to guess number\n",
    "    guess = input()                             # Produce the user input field\n",
    "    guess = int(guess)                          # Convert guess to integer\n",
    "    number_of_guesses += 1                      # Increment guess count by 1\n",
    "\n",
    "    if guess == number:                         # Break while loop if guess is correct\n",
    "        break\n",
    "    elif number_of_guesses == 5:                # Break while loop if guess limit reached\n",
    "        break\n",
    "    else:                                       # Tell user to try again\n",
    "        print('Nope! Try again.')\n",
    "\n",
    "# Message to display if correct\n",
    "if guess == number:\n",
    "    print('Correct! You guessed the number in ' + str(number_of_guesses) + ' tries!')\n",
    "# Message to display after 5 unsuccessful guesses\n",
    "else:\n",
    "    print('You did not guess the number. The number was ' + str(number) + '.')"
   ]
  },
  {
   "cell_type": "code",
   "execution_count": 7,
   "id": "81b8632e-0a55-4f69-a4b5-0efdc9bcc15d",
   "metadata": {},
   "outputs": [
    {
     "name": "stdout",
     "output_type": "stream",
     "text": [
      "Guess a number between 1 and 25: \n"
     ]
    },
    {
     "name": "stdout",
     "output_type": "stream",
     "text": [
      " 22\n"
     ]
    },
    {
     "name": "stdout",
     "output_type": "stream",
     "text": [
      "Nope! Try again.\n",
      "Guess a number between 1 and 25: \n"
     ]
    },
    {
     "name": "stdout",
     "output_type": "stream",
     "text": [
      " 34\n"
     ]
    },
    {
     "name": "stdout",
     "output_type": "stream",
     "text": [
      "Nope! Try again.\n",
      "Guess a number between 1 and 25: \n"
     ]
    },
    {
     "name": "stdout",
     "output_type": "stream",
     "text": [
      " 11\n"
     ]
    },
    {
     "name": "stdout",
     "output_type": "stream",
     "text": [
      "Nope! Try again.\n",
      "Guess a number between 1 and 25: \n"
     ]
    },
    {
     "name": "stdout",
     "output_type": "stream",
     "text": [
      " 15\n"
     ]
    },
    {
     "name": "stdout",
     "output_type": "stream",
     "text": [
      "Nope! Try again.\n",
      "Guess a number between 1 and 25: \n"
     ]
    },
    {
     "name": "stdout",
     "output_type": "stream",
     "text": [
      " 13\n"
     ]
    },
    {
     "name": "stdout",
     "output_type": "stream",
     "text": [
      "Nope! Try again.\n",
      "You did not guess the number. The number was 20.\n"
     ]
    }
   ],
   "source": [
    "# Import the random module to be able to create a (pseudo) random number.\n",
    "import random\n",
    "\n",
    "number = random.randint(1,25)                   # Generate random number\n",
    "number_of_guesses = 0                           # Instantiate guess counter\n",
    "\n",
    "while number_of_guesses < 5:\n",
    "    print('Guess a number between 1 and 25: ')  # Tell user to guess number\n",
    "    guess = input()                             # Produce the user input field\n",
    "    guess = int(guess)                          # Convert guess to integer\n",
    "    number_of_guesses += 1                      # Increment guess count by 1\n",
    "\n",
    "    if guess == number:                         # Break while loop if guess is correct\n",
    "        break\n",
    "    else:                                       # Tell user to try again\n",
    "        print('Nope! Try again.')\n",
    "\n",
    "# Message to display if correct\n",
    "if guess == number:\n",
    "    print('Correct! You guessed the number in ' + str(number_of_guesses) + ' tries!')\n",
    "# Message to display after 5 unsuccessful guesses\n",
    "else:\n",
    "    print('You did not guess the number. The number was ' + str(number) + '.')"
   ]
  },
  {
   "cell_type": "code",
   "execution_count": 11,
   "id": "a127f880-3635-4b17-ab1b-e05bc173e292",
   "metadata": {},
   "outputs": [
    {
     "name": "stdout",
     "output_type": "stream",
     "text": [
      "2\n",
      "4\n",
      "6\n",
      "8\n",
      "10\n",
      "12\n",
      "14\n",
      "16\n",
      "18\n",
      "20\n",
      "22\n",
      "24\n",
      "26\n",
      "28\n",
      "30\n",
      "32\n",
      "34\n",
      "36\n",
      "38\n",
      "40\n",
      "42\n",
      "44\n",
      "46\n",
      "48\n",
      "50\n",
      "52\n",
      "54\n",
      "56\n",
      "58\n",
      "60\n",
      "62\n",
      "64\n",
      "66\n",
      "68\n",
      "70\n",
      "72\n",
      "74\n",
      "76\n",
      "78\n",
      "80\n",
      "82\n",
      "84\n",
      "86\n",
      "88\n",
      "90\n",
      "92\n",
      "94\n",
      "96\n",
      "98\n",
      "100\n",
      "102\n",
      "104\n",
      "106\n",
      "108\n",
      "110\n",
      "112\n",
      "114\n",
      "116\n",
      "118\n",
      "120\n",
      "122\n",
      "124\n",
      "126\n",
      "128\n",
      "130\n",
      "132\n",
      "134\n",
      "136\n",
      "138\n",
      "140\n",
      "142\n",
      "144\n",
      "146\n",
      "148\n",
      "150\n",
      "152\n",
      "154\n",
      "156\n",
      "158\n",
      "160\n",
      "162\n",
      "164\n",
      "166\n",
      "168\n",
      "170\n",
      "172\n",
      "174\n",
      "176\n",
      "178\n",
      "180\n",
      "182\n",
      "184\n",
      "186\n",
      "188\n",
      "190\n",
      "192\n",
      "194\n",
      "196\n",
      "198\n",
      "200\n",
      "202\n",
      "204\n",
      "206\n",
      "208\n",
      "210\n",
      "212\n",
      "214\n",
      "216\n",
      "218\n",
      "220\n",
      "222\n",
      "224\n",
      "226\n",
      "228\n",
      "230\n",
      "232\n",
      "234\n",
      "236\n",
      "238\n",
      "240\n",
      "242\n",
      "244\n",
      "246\n",
      "248\n",
      "250\n",
      "252\n",
      "254\n",
      "256\n",
      "258\n",
      "260\n",
      "262\n",
      "264\n",
      "266\n",
      "268\n",
      "270\n",
      "272\n",
      "274\n",
      "276\n",
      "278\n",
      "280\n",
      "282\n",
      "284\n",
      "286\n",
      "288\n",
      "290\n",
      "292\n",
      "294\n",
      "296\n",
      "298\n"
     ]
    }
   ],
   "source": [
    "x = 2\n",
    "while x < 300:\n",
    "    print(x)\n",
    "    x = x+2"
   ]
  },
  {
   "cell_type": "code",
   "execution_count": 1,
   "id": "7ddea4be-0cca-4eea-8b32-223a854b668b",
   "metadata": {},
   "outputs": [
    {
     "name": "stdout",
     "output_type": "stream",
     "text": [
      "Igor\n",
      "Sokolov\n",
      "\n",
      "Riko\n",
      "Miyazaki\n",
      "\n",
      "Tuva\n",
      "Johansen\n",
      "\n"
     ]
    }
   ],
   "source": [
    "# nested loops\n",
    "students = [['Igor', 'Sokolov'], ['Riko', 'Miyazaki'], ['Tuva', 'Johansen']]\n",
    "for student in students:\n",
    "   for name in student:\n",
    "       print(name)\n",
    "   print()"
   ]
  },
  {
   "cell_type": "markdown",
   "id": "89991d51-8db4-459f-ab80-a2255ec8cef3",
   "metadata": {},
   "source": [
    "In this example, the students variable contains a list of three lists. Each inner list contains two elements: a given name and a surname. The first for loop iterates over the inner lists. The second (nested) for loop iterates over each name in each inner list and prints the name. After each iteration of the outer loop, the program uses an empty print statement to print a new line. \n"
   ]
  },
  {
   "cell_type": "code",
   "execution_count": null,
   "id": "4063c9b4-2b3f-4b97-8469-5f1c0d009625",
   "metadata": {},
   "outputs": [],
   "source": []
  },
  {
   "cell_type": "code",
   "execution_count": null,
   "id": "27ba5061-ee85-48a5-af77-1feb64d80f24",
   "metadata": {},
   "outputs": [],
   "source": []
  },
  {
   "cell_type": "code",
   "execution_count": 1,
   "id": "b833d5f0-1be0-43bc-94c5-f11f7ec3a99e",
   "metadata": {},
   "outputs": [
    {
     "name": "stdout",
     "output_type": "stream",
     "text": [
      "[0|0] [0|1] [0|2] [0|3] [0|4] [0|5] [0|6] \n",
      "\n",
      "[1|1] [1|2] [1|3] [1|4] [1|5] [1|6] \n",
      "\n",
      "[2|2] [2|3] [2|4] [2|5] [2|6] \n",
      "\n",
      "[3|3] [3|4] [3|5] [3|6] \n",
      "\n",
      "[4|4] [4|5] [4|6] \n",
      "\n",
      "[5|5] [5|6] \n",
      "\n",
      "[6|6] \n",
      "\n"
     ]
    }
   ],
   "source": [
    "# Nested loops can produce the different combinations of pips (dots) in\n",
    "# a set of dominoes.\n",
    "for left in range(7):\n",
    "    for right in range(left, 7):\n",
    "        print(f\"[{left}|{right}]\", end=\" \")\n",
    "    print('\\n')"
   ]
  },
  {
   "cell_type": "code",
   "execution_count": 2,
   "id": "c4a6f5a8-4393-435b-88ac-ffc6ea1beb4b",
   "metadata": {},
   "outputs": [
    {
     "data": {
      "text/plain": [
       "[(0, 0),\n",
       " (0, 1),\n",
       " (0, 2),\n",
       " (0, 3),\n",
       " (0, 4),\n",
       " (0, 5),\n",
       " (0, 6),\n",
       " (1, 1),\n",
       " (1, 2),\n",
       " (1, 3),\n",
       " (1, 4),\n",
       " (1, 5),\n",
       " (1, 6),\n",
       " (2, 2),\n",
       " (2, 3),\n",
       " (2, 4),\n",
       " (2, 5),\n",
       " (2, 6),\n",
       " (3, 3),\n",
       " (3, 4),\n",
       " (3, 5),\n",
       " (3, 6),\n",
       " (4, 4),\n",
       " (4, 5),\n",
       " (4, 6),\n",
       " (5, 5),\n",
       " (5, 6),\n",
       " (6, 6)]"
      ]
     },
     "execution_count": 2,
     "metadata": {},
     "output_type": "execute_result"
    }
   ],
   "source": [
    " #Create a list of dominoes, with each domino reprented as a tuple.\n",
    "dominoes = []\n",
    "for left in range(7):\n",
    "    for right in range(left, 7):\n",
    "        dominoes.append((left, right))\n",
    "dominoes"
   ]
  },
  {
   "cell_type": "code",
   "execution_count": 4,
   "id": "e8525fb2-e2a3-423a-85bc-ac364cba1b00",
   "metadata": {},
   "outputs": [
    {
     "data": {
      "text/plain": [
       "5"
      ]
     },
     "execution_count": 4,
     "metadata": {},
     "output_type": "execute_result"
    }
   ],
   "source": [
    "dominoes[16][1]"
   ]
  },
  {
   "cell_type": "markdown",
   "id": "3e218002",
   "metadata": {},
   "source": [
    "List Comprehension "
   ]
  },
  {
   "cell_type": "code",
   "execution_count": 7,
   "id": "7cf89229-7155-4772-be18-ad7adfd2eb4f",
   "metadata": {},
   "outputs": [
    {
     "name": "stdout",
     "output_type": "stream",
     "text": [
      "[0, 1, 2, 3, 4, 5, 6, 2, 3, 4, 5, 6, 7, 4, 5, 6, 7, 8, 6, 7, 8, 9, 8, 9, 10, 10, 11, 12]\n"
     ]
    }
   ],
   "source": [
    "# You can use a for loop to sum the pips on each domino and append\n",
    "# the sum to a new list.\n",
    "pips_from_loop = []\n",
    "for domino in dominoes:\n",
    "    pips_from_loop.append(domino[0] + domino[1])\n",
    "print(pips_from_loop)"
   ]
  },
  {
   "cell_type": "code",
   "execution_count": 8,
   "id": "0cb59d59",
   "metadata": {},
   "outputs": [
    {
     "data": {
      "text/plain": [
       "True"
      ]
     },
     "execution_count": 8,
     "metadata": {},
     "output_type": "execute_result"
    }
   ],
   "source": [
    "# A list comprehension produces the same result with less code.\n",
    "pips_from_list_comp = [domino[0] + domino[1] for domino in dominoes]\n",
    "pips_from_loop == pips_from_list_comp"
   ]
  },
  {
   "cell_type": "markdown",
   "id": "d9f7876c",
   "metadata": {},
   "source": [
    "zip finction"
   ]
  },
  {
   "cell_type": "code",
   "execution_count": 9,
   "id": "0116281d",
   "metadata": {},
   "outputs": [
    {
     "name": "stdout",
     "output_type": "stream",
     "text": [
      "<zip object at 0x000001CA03525980>\n",
      "[('Paris', 'France'), ('Lagos', 'Nigeria'), ('Mumbai', 'India')]\n"
     ]
    }
   ],
   "source": [
    "cities = ['Paris', 'Lagos', 'Mumbai']\n",
    "countries = ['France', 'Nigeria', 'India']\n",
    "places = zip(cities, countries)\n",
    "\n",
    "\n",
    "print(places)\n",
    "print(list(places))"
   ]
  },
  {
   "cell_type": "code",
   "execution_count": 11,
   "id": "0317405c",
   "metadata": {},
   "outputs": [
    {
     "name": "stdout",
     "output_type": "stream",
     "text": [
      "('Nikola', 'Charles', 'Marie')\n",
      "('Tesla', 'Darwin', 'Curie')\n"
     ]
    }
   ],
   "source": [
    "#unzipping\n",
    "scientists = [('Nikola', 'Tesla'), ('Charles', 'Darwin'), ('Marie', 'Curie')]\n",
    "given_names, surnames = zip(*scientists)\n",
    "print(given_names)\n",
    "print(surnames)"
   ]
  },
  {
   "cell_type": "markdown",
   "id": "4e2090c8",
   "metadata": {},
   "source": [
    "enumerator function"
   ]
  },
  {
   "cell_type": "code",
   "execution_count": 12,
   "id": "48b8a7d0",
   "metadata": {},
   "outputs": [
    {
     "name": "stdout",
     "output_type": "stream",
     "text": [
      "0 a\n",
      "1 b\n",
      "2 c\n"
     ]
    }
   ],
   "source": [
    "letters = ['a', 'b', 'c']\n",
    "for index, letter in enumerate(letters):\n",
    "   print(index, letter)"
   ]
  },
  {
   "cell_type": "code",
   "execution_count": 13,
   "id": "484d5a8e",
   "metadata": {},
   "outputs": [
    {
     "name": "stdout",
     "output_type": "stream",
     "text": [
      "2 a\n",
      "3 b\n",
      "4 c\n"
     ]
    }
   ],
   "source": [
    "letters = ['a', 'b', 'c']\n",
    "for index, letter in enumerate(letters, 2):\n",
    "   print(index, letter)"
   ]
  },
  {
   "cell_type": "code",
   "execution_count": 14,
   "id": "38cc6755",
   "metadata": {},
   "outputs": [
    {
     "name": "stdout",
     "output_type": "stream",
     "text": [
      "[11, 12, 13, 14, 15]\n"
     ]
    }
   ],
   "source": [
    "numbers = [1, 2, 3, 4, 5]\n",
    "new_list = [x + 10 for x in numbers]\n",
    "print(new_list)"
   ]
  },
  {
   "cell_type": "markdown",
   "id": "7ed7c4b9",
   "metadata": {},
   "source": [
    "This next list comprehension extracts the first and last letter of each word as a tuple, but only if the word is more than five letters long."
   ]
  },
  {
   "cell_type": "code",
   "execution_count": 15,
   "id": "4494cce9",
   "metadata": {},
   "outputs": [
    {
     "name": "stdout",
     "output_type": "stream",
     "text": [
      "[('E', 'n'), ('S', 'a')]\n"
     ]
    }
   ],
   "source": [
    "words = ['Emotan', 'Amina', 'Ibeno', 'Sankwala']\n",
    "new_list = [(word[0], word[-1]) for word in words if len(word) > 5]\n",
    "print(new_list)"
   ]
  },
  {
   "cell_type": "markdown",
   "id": "75c3ebd9",
   "metadata": {},
   "source": [
    "state_names - a list of each state in the state_name column in the table above, in order, as strings\n",
    "county_names - a list of each county in the county_name column in the table above, in order, as strings"
   ]
  },
  {
   "cell_type": "code",
   "execution_count": 17,
   "id": "061bfbe0",
   "metadata": {},
   "outputs": [],
   "source": [
    "state_names = [\"Arizona\", \"California\", \"California\", \"Kentucky\", \"Louisiana\"]\n",
    "\n",
    "\n",
    "county_names = [\"Maricopa\", \"Alameda\", \"Sacramento\", \"Jefferson\", \"East Baton Rouge\"]"
   ]
  },
  {
   "cell_type": "markdown",
   "id": "16fc18cf",
   "metadata": {},
   "source": [
    "Use state_names and county_names to:\n",
    "Create a new list of tuples, where each tuple contains a pair of state name and county name.\n",
    "Assign the new list to a variable called state_county_tuples.\n",
    "Print the result"
   ]
  },
  {
   "cell_type": "code",
   "execution_count": 18,
   "id": "b6897a4c",
   "metadata": {},
   "outputs": [
    {
     "data": {
      "text/plain": [
       "[('Arizona', 'Maricopa'),\n",
       " ('California', 'Alameda'),\n",
       " ('California', 'Sacramento'),\n",
       " ('Kentucky', 'Jefferson'),\n",
       " ('Louisiana', 'East Baton Rouge')]"
      ]
     },
     "execution_count": 18,
     "metadata": {},
     "output_type": "execute_result"
    }
   ],
   "source": [
    "state_county_tuples = []\n",
    "for i in range(len(state_names)):\n",
    "    state_county_tuples.append((state_names[i], county_names[i]))\n",
    "\n",
    "state_county_tuples"
   ]
  },
  {
   "cell_type": "markdown",
   "id": "65f4646b",
   "metadata": {},
   "source": [
    "Use the zip() function to generate the same output created in Task 1b.\n",
    "\n",
    "Use state_names and county_names to:\n",
    "Create a new list of tuples, where each tuple contains a pair of state name and county name.\n",
    "Assign the new list to a variable called state_county_zipped.\n",
    "Check that state_county_zipped is the same as state_county_tuples."
   ]
  },
  {
   "cell_type": "code",
   "execution_count": 19,
   "id": "46910de4",
   "metadata": {},
   "outputs": [
    {
     "name": "stdout",
     "output_type": "stream",
     "text": [
      "<zip object at 0x000001CA035BEDC0>\n",
      "[('Arizona', 'Maricopa'), ('California', 'Alameda'), ('California', 'Suacramento'), ('Kentucky', 'Jefferson'), ('Louisiana', 'East Baton Rouge')]\n"
     ]
    }
   ],
   "source": [
    "# My code \n",
    "state_name =['Arizona', 'California', 'California', 'Kentucky', 'Louisiana']\n",
    "county_name = ['Maricopa', 'Alameda', 'Suacramento', 'Jefferson', 'East Baton Rouge']\n",
    "\n",
    "state_county_zipped = zip(state_name, county_name)\n",
    "\n",
    "print(state_county_zipped)\n",
    "print(list(state_county_zipped))\n"
   ]
  },
  {
   "cell_type": "code",
   "execution_count": 21,
   "id": "9f70969a",
   "metadata": {},
   "outputs": [
    {
     "name": "stdout",
     "output_type": "stream",
     "text": [
      "[('Arizona', 'Maricopa'), ('California', 'Alameda'), ('California', 'Sacramento'), ('Kentucky', 'Jefferson'), ('Louisiana', 'East Baton Rouge')]\n"
     ]
    }
   ],
   "source": [
    "#Correction\n",
    "state_county_zipped = list(zip(state_names, county_names))\n",
    "\n",
    "print(list(state_county_zipped))"
   ]
  },
  {
   "cell_type": "markdown",
   "id": "44180adc",
   "metadata": {},
   "source": [
    "Use a list comprehension to convert state_county_tuples from a list of tuples to a list of lists. Assign the result to a variable called state_county_lists.\n",
    "\n",
    "Print the result."
   ]
  },
  {
   "cell_type": "code",
   "execution_count": 22,
   "id": "dc0f2d39",
   "metadata": {},
   "outputs": [
    {
     "data": {
      "text/plain": [
       "[['Arizona', 'Maricopa'],\n",
       " ['California', 'Alameda'],\n",
       " ['California', 'Sacramento'],\n",
       " ['Kentucky', 'Jefferson'],\n",
       " ['Louisiana', 'East Baton Rouge']]"
      ]
     },
     "execution_count": 22,
     "metadata": {},
     "output_type": "execute_result"
    }
   ],
   "source": [
    "state_county_lists = [list(i) for i in state_county_tuples]\n",
    "state_county_lists"
   ]
  },
  {
   "cell_type": "markdown",
   "id": "90d16de9",
   "metadata": {},
   "source": [
    "rite a loop that unpacks each tuple in state_county_tuples and, if the state in the tuple is California, add the corresponding county to a list called ca_counties."
   ]
  },
  {
   "cell_type": "code",
   "execution_count": 23,
   "id": "d79b5777",
   "metadata": {},
   "outputs": [
    {
     "data": {
      "text/plain": [
       "['Alameda', 'Sacramento']"
      ]
     },
     "execution_count": 23,
     "metadata": {},
     "output_type": "execute_result"
    }
   ],
   "source": [
    "ca_counties = []\n",
    "for state, county in state_county_tuples:\n",
    "    if state=='California':\n",
    "        ca_counties.append(county)\n",
    "ca_counties"
   ]
  },
  {
   "cell_type": "markdown",
   "id": "646b907e",
   "metadata": {},
   "source": [
    "In a list comprehension, unpack each tuple in state_county_tuples and, if the state in the tuple is California, add the corresponding county to the list comprehension.\n",
    "\n",
    "Assign the result to a variable called ca_counties.\n",
    "\n",
    "Print ca_counties."
   ]
  },
  {
   "cell_type": "code",
   "execution_count": 24,
   "id": "313eb2db",
   "metadata": {},
   "outputs": [
    {
     "data": {
      "text/plain": [
       "['Alameda', 'Sacramento']"
      ]
     },
     "execution_count": 24,
     "metadata": {},
     "output_type": "execute_result"
    }
   ],
   "source": [
    "ca_counties = [county for (state, county) in state_county_tuples if state=='California']\n",
    "ca_counties"
   ]
  },
  {
   "cell_type": "markdown",
   "id": "baa437ec",
   "metadata": {},
   "source": [
    "DICTIONARIES "
   ]
  },
  {
   "cell_type": "code",
   "execution_count": 3,
   "id": "c3167233",
   "metadata": {},
   "outputs": [],
   "source": [
    "ZOO = dict(\n",
    "    room_1='Paschal',\n",
    "    room_2='Ifunanya',\n",
    "    room_3='Chidimma',\n",
    ")"
   ]
  },
  {
   "cell_type": "code",
   "execution_count": 8,
   "id": "03ed4900",
   "metadata": {},
   "outputs": [
    {
     "data": {
      "text/plain": [
       "'Paschal'"
      ]
     },
     "execution_count": 8,
     "metadata": {},
     "output_type": "execute_result"
    }
   ],
   "source": [
    "# To retrieve or lookup the alues of the keys\n",
    "ZOO['room_1']"
   ]
  },
  {
   "cell_type": "code",
   "execution_count": null,
   "id": "d4b3d873",
   "metadata": {},
   "outputs": [
    {
     "data": {
      "text/plain": [
       "{'room_1': 'Paschal', 'room_2': 'Iruoma', 'room_3': 'Chidimma'}"
      ]
     },
     "execution_count": 10,
     "metadata": {},
     "output_type": "execute_result"
    }
   ],
   "source": [
    "# To add OR  BETTER STILL REPLACE a new value to am existing key\n",
    "ZOO [\"room_2\"] = 'Iruoma'\n",
    "ZOO"
   ]
  },
  {
   "cell_type": "code",
   "execution_count": null,
   "id": "d7edf111",
   "metadata": {},
   "outputs": [
    {
     "name": "stdout",
     "output_type": "stream",
     "text": [
      "True\n"
     ]
    }
   ],
   "source": [
    "# Dictionaries are unordered but in python 3.7 and up they now retain their order\n",
    "# Checking if a keyword exists in your dictioanry by using the 'IN' keyword to produce a boolean response which works only for keys and not values \n",
    "\n",
    "print ('room_2' in ZOO )"
   ]
  },
  {
   "cell_type": "markdown",
   "id": "99f22d4d",
   "metadata": {},
   "source": [
    "DICTIONARY METHODS "
   ]
  },
  {
   "cell_type": "code",
   "execution_count": 1,
   "id": "e0417788",
   "metadata": {},
   "outputs": [],
   "source": [
    "# Create a list of tuples, each representing the name, age, and position of a\n",
    "# player on a basketball team.\n",
    "team = [\n",
    "    ('Marta', 20, 'center'),\n",
    "    ('Ana', 22, 'point guard'),\n",
    "    ('Gabi', 22, 'shooting guard'),\n",
    "    ('Luz', 21, 'power forward'),\n",
    "    ('Lorena', 19, 'small forward'),\n",
    "    ]"
   ]
  },
  {
   "cell_type": "code",
   "execution_count": 2,
   "id": "08048a9c",
   "metadata": {},
   "outputs": [],
   "source": [
    "# Add new players to the list.\n",
    "team = [\n",
    "    ('Marta', 20, 'center'),\n",
    "    ('Ana', 22, 'point guard'),\n",
    "    ('Gabi', 22, 'shooting guard'),\n",
    "    ('Luz', 21, 'power forward'),\n",
    "    ('Lorena', 19, 'small forward'),\n",
    "    ('Sandra', 19, 'center'),\n",
    "    ('Mari', 18, 'point guard'),\n",
    "    ('Esme', 18, 'shooting guard'),\n",
    "    ('Lin', 18, 'power forward'),\n",
    "    ('Sol', 19, 'small forward'),\n",
    "    ]"
   ]
  },
  {
   "cell_type": "code",
   "execution_count": 3,
   "id": "3f00929e",
   "metadata": {},
   "outputs": [
    {
     "data": {
      "text/plain": [
       "{'center': [('Marta', 20), ('Sandra', 19)],\n",
       " 'point guard': [('Ana', 22), ('Mari', 18)],\n",
       " 'shooting guard': [('Gabi', 22), ('Esme', 18)],\n",
       " 'power forward': [('Luz', 21), ('Lin', 18)],\n",
       " 'small forward': [('Lorena', 19), ('Sol', 19)]}"
      ]
     },
     "execution_count": 3,
     "metadata": {},
     "output_type": "execute_result"
    }
   ],
   "source": [
    "# Instantiate an empty dictionary.\n",
    "new_team = {}\n",
    "\n",
    "# Loop over the tuples in the list of players and unpack their values.\n",
    "for name, age, position in team:\n",
    "    if position in new_team:                    # If position already a key in new_team,\n",
    "        new_team[position].append((name, age))  # append (name, age) tup to list at that value.\n",
    "    else:\n",
    "        new_team[position] = [(name, age)]      # If position not a key in new_team,\n",
    "                                                # create a new key whose value is a list\n",
    "                                                # containing (name, age) tup.\n",
    "new_team"
   ]
  },
  {
   "cell_type": "code",
   "execution_count": 4,
   "id": "c60cf1ef",
   "metadata": {},
   "outputs": [
    {
     "data": {
      "text/plain": [
       "[('Ana', 22), ('Mari', 18)]"
      ]
     },
     "execution_count": 4,
     "metadata": {},
     "output_type": "execute_result"
    }
   ],
   "source": [
    "# Examine the value at the 'point guard' key.\n",
    "new_team['point guard']"
   ]
  },
  {
   "cell_type": "code",
   "execution_count": 5,
   "id": "1ca4cc7e",
   "metadata": {},
   "outputs": [
    {
     "name": "stdout",
     "output_type": "stream",
     "text": [
      "center\n",
      "point guard\n",
      "shooting guard\n",
      "power forward\n",
      "small forward\n"
     ]
    }
   ],
   "source": [
    "# You can access the a dictionary's keys by looping over them.\n",
    "for x in new_team:\n",
    "    print(x)"
   ]
  },
  {
   "cell_type": "code",
   "execution_count": 9,
   "id": "1927e715",
   "metadata": {},
   "outputs": [
    {
     "data": {
      "text/plain": [
       "dict_values([[('Marta', 20), ('Sandra', 19)], [('Ana', 22), ('Mari', 18)], [('Gabi', 22), ('Esme', 18)], [('Luz', 21), ('Lin', 18)], [('Lorena', 19), ('Sol', 19)]])"
      ]
     },
     "execution_count": 9,
     "metadata": {},
     "output_type": "execute_result"
    }
   ],
   "source": [
    "# The keys() method returns the keys of a dictionary.\n",
    "# The value method returns all the values in a dictionary\n",
    "new_team.keys()\n",
    "new_team.values()"
   ]
  },
  {
   "cell_type": "code",
   "execution_count": 10,
   "id": "6e552596",
   "metadata": {},
   "outputs": [
    {
     "name": "stdout",
     "output_type": "stream",
     "text": [
      "center [('Marta', 20), ('Sandra', 19)]\n",
      "point guard [('Ana', 22), ('Mari', 18)]\n",
      "shooting guard [('Gabi', 22), ('Esme', 18)]\n",
      "power forward [('Luz', 21), ('Lin', 18)]\n",
      "small forward [('Lorena', 19), ('Sol', 19)]\n"
     ]
    }
   ],
   "source": [
    "# The items() method returns both the keys and the values.\n",
    "for a, b in new_team.items():\n",
    "    print(a, b)"
   ]
  },
  {
   "cell_type": "code",
   "execution_count": 11,
   "id": "da80c119",
   "metadata": {},
   "outputs": [
    {
     "name": "stdout",
     "output_type": "stream",
     "text": [
      "{'nums': [1, 2, 3]}\n"
     ]
    }
   ],
   "source": [
    "# To delete a key-value pair from a dictionary, use the del keyword:\n",
    "my_dict = {'nums': [1, 2, 3],\n",
    "          'abc': ['a', 'b', 'c']\n",
    "          }\n",
    "del my_dict['abc']\n",
    "print(my_dict)"
   ]
  },
  {
   "cell_type": "code",
   "execution_count": 12,
   "id": "54f54fc9",
   "metadata": {},
   "outputs": [
    {
     "name": "stdout",
     "output_type": "stream",
     "text": [
      "{'nums': [1, 2, 3], 'floats': [1.0, 2.0, 3.0]}\n"
     ]
    }
   ],
   "source": [
    "# To assign new keys to a dictionary\n",
    "my_dict = {'nums': [1, 2, 3]\n",
    "          }\n",
    "\n",
    "\n",
    "# Add a new 'floats' key\n",
    "my_dict['floats'] = [1.0, 2.0, 3.0]\n",
    "print(my_dict)"
   ]
  },
  {
   "cell_type": "code",
   "execution_count": 15,
   "id": "215d69ff",
   "metadata": {},
   "outputs": [
    {
     "name": "stdout",
     "output_type": "stream",
     "text": [
      "[{'nums': [1, 2, 3], 'floats': [1.0, 2.0, 3.0], 'Mgbecheta': ['paschal', 'chee', 'iru']}]\n"
     ]
    }
   ],
   "source": [
    "my_dict['Mgbecheta'] = ['paschal', 'chee', 'iru']\n",
    "\n",
    "print([my_dict])"
   ]
  },
  {
   "cell_type": "markdown",
   "id": "5bc151cc",
   "metadata": {},
   "source": [
    "    SETS"
   ]
  },
  {
   "cell_type": "code",
   "execution_count": 16,
   "id": "3d081e3c",
   "metadata": {},
   "outputs": [
    {
     "name": "stdout",
     "output_type": "stream",
     "text": [
      "{'baz', 'bar', 'foo'}\n"
     ]
    }
   ],
   "source": [
    "# The set() function converts a list to a set.\n",
    "x = set(['foo', 'bar', 'baz', 'foo'])\n",
    "print(x)"
   ]
  },
  {
   "cell_type": "code",
   "execution_count": 17,
   "id": "46671369",
   "metadata": {},
   "outputs": [
    {
     "name": "stdout",
     "output_type": "stream",
     "text": [
      "{'baz', 'bar', 'foo'}\n"
     ]
    }
   ],
   "source": [
    "# The set() function converts a tuple to a set.\n",
    "x = set(('foo','bar','baz', 'foo'))\n",
    "print(x)"
   ]
  },
  {
   "cell_type": "code",
   "execution_count": 18,
   "id": "87bfb500",
   "metadata": {},
   "outputs": [
    {
     "name": "stdout",
     "output_type": "stream",
     "text": [
      "{'o', 'f'}\n"
     ]
    }
   ],
   "source": [
    "# The set() function converts a string to a set.\n",
    "x = set('foo')\n",
    "print(x)"
   ]
  },
  {
   "cell_type": "code",
   "execution_count": 19,
   "id": "4e2dadbe",
   "metadata": {},
   "outputs": [
    {
     "name": "stdout",
     "output_type": "stream",
     "text": [
      "<class 'set'>\n",
      "<class 'dict'>\n"
     ]
    }
   ],
   "source": [
    "# You can use braces to instantiate a set\n",
    "x = {'foo'}\n",
    "print(type(x))\n",
    "\n",
    "# But empty braces are reserved for dictionaries.\n",
    "y = {}\n",
    "print(type(y))"
   ]
  },
  {
   "cell_type": "code",
   "execution_count": 20,
   "id": "a54b12d0",
   "metadata": {},
   "outputs": [
    {
     "name": "stdout",
     "output_type": "stream",
     "text": [
      "{'foo'}\n"
     ]
    }
   ],
   "source": [
    "# Instantiating a set with braces treats the contents as literals.\n",
    "x = {'foo'}\n",
    "print(x)"
   ]
  },
  {
   "cell_type": "code",
   "execution_count": null,
   "id": "cb117d31",
   "metadata": {},
   "outputs": [
    {
     "name": "stdout",
     "output_type": "stream",
     "text": [
      "{4, 5, 6}\n",
      "{4, 5, 6}\n"
     ]
    }
   ],
   "source": [
    "# The intersection() method (&) returns common elements between two sets.\n",
    "set1 = {1, 2, 3, 4, 5, 6}\n",
    "set2 = {4, 5, 6, 7, 8, 9}\n",
    "print(set1.intersection(set2))  # Either this \n",
    "print(set1 & set2) #.. or this "
   ]
  },
  {
   "cell_type": "code",
   "execution_count": null,
   "id": "3f33a7b0",
   "metadata": {},
   "outputs": [
    {
     "name": "stdout",
     "output_type": "stream",
     "text": [
      "{'foo', 'baz', 'qux', 'bar', 'quux'}\n",
      "{'foo', 'baz', 'qux', 'bar', 'quux'}\n"
     ]
    }
   ],
   "source": [
    "# The union() method (|) returns all the elements from two sets, each represented once.\n",
    "x1 = {'foo', 'bar', 'baz'}\n",
    "x2 = {'baz', 'qux', 'quux'}\n",
    "print(x1.union(x2)) # this \n",
    "print(x1 | x2) # ... or this "
   ]
  },
  {
   "cell_type": "code",
   "execution_count": null,
   "id": "cc159f27",
   "metadata": {},
   "outputs": [
    {
     "name": "stdout",
     "output_type": "stream",
     "text": [
      "{1, 2, 3}\n",
      "{1, 2, 3}\n"
     ]
    }
   ],
   "source": [
    "# The difference() method (-) returns the elements in set1 that aren't in set2\n",
    "set1 = {1, 2, 3, 4, 5, 6}\n",
    "set2 = {4, 5, 6, 7, 8, 9}\n",
    "print(set1.difference(set2)) # this \n",
    "print(set1 - set2) #... or this "
   ]
  },
  {
   "cell_type": "code",
   "execution_count": null,
   "id": "cf5f52d0",
   "metadata": {},
   "outputs": [
    {
     "name": "stdout",
     "output_type": "stream",
     "text": [
      "{8, 9, 7}\n",
      "{8, 9, 7}\n"
     ]
    }
   ],
   "source": [
    "# ... and the elements in set2 that aren't in set1.\n",
    "print(set2.difference(set1)) # this \n",
    "print(set2 - set1) # .. or this"
   ]
  },
  {
   "cell_type": "code",
   "execution_count": null,
   "id": "5ca6041a",
   "metadata": {},
   "outputs": [
    {
     "data": {
      "text/plain": [
       "{1, 2, 3, 7, 8, 9}"
      ]
     },
     "execution_count": 25,
     "metadata": {},
     "output_type": "execute_result"
    }
   ],
   "source": [
    "# The symmetric_difference() method (^) returns all the values from each set that\n",
    "# are not in both sets.\n",
    "set1 = {1, 2, 3, 4, 5, 6}\n",
    "set2 = {4, 5, 6, 7, 8, 9}\n",
    "set2.symmetric_difference(set1) # this\n",
    "set2 ^ set1 # .. or this"
   ]
  },
  {
   "cell_type": "markdown",
   "id": "6733675c",
   "metadata": {},
   "source": [
    "EXAMPLER FOR SETS AND DICTIONARIES"
   ]
  },
  {
   "cell_type": "markdown",
   "id": "2eb92a6c",
   "metadata": {},
   "source": [
    "Task 1: Create a dictionary to store information\n",
    "Dictionaries are useful when you need a data structure to store information that can be referenced or looked up.\n",
    "\n",
    "In this task you'll begin with three list objects:\n",
    "\n",
    "state_list - an ordered list of the state where each data point was recorded\n",
    "county_list - an ordered list of the county where each data point was recorded\n",
    "aqi_list - an ordered list of AQI records\n",
    "\n",
    "\n",
    "As a refresher, here is an example table of some of the information contained in these variables:\n",
    "\n",
    "\n",
    "state_name\tcounty_name\taqi\n",
    "Arizona\tMaricopa\t9\n",
    "California\tAlameda\t11\n",
    "California\tSacramento\t35\n",
    "Kentucky\tJefferson\t6\n",
    "Louisiana\tEast Baton Rouge\t5\n",
    "\n",
    "\n",
    "Reminder: This lab uses more data than the last one. This table is just a small sample of the information contained in the three lists that are provided for this activity.\n",
    "\n",
    "\n",
    "1a: Create a list of tuples\n",
    "Begin with an intermediary step to prepare the information to be put in a dictionary.\n",
    "\n",
    "Convert state_list, county_list, and aqi_list to a list of tuples, where each tuple contains information for a single record: (state, county, aqi).\n",
    "\n",
    "Assign the result to a variable called epa_tuples"
   ]
  },
  {
   "cell_type": "code",
   "execution_count": null,
   "id": "d0c6868e",
   "metadata": {},
   "outputs": [
    {
     "ename": "ModuleNotFoundError",
     "evalue": "No module named 'ada_c2_labs'",
     "output_type": "error",
     "traceback": [
      "\u001b[1;31m---------------------------------------------------------------------------\u001b[0m",
      "\u001b[1;31mModuleNotFoundError\u001b[0m                       Traceback (most recent call last)",
      "Cell \u001b[1;32mIn[26], line 2\u001b[0m\n\u001b[0;32m      1\u001b[0m \u001b[38;5;66;03m# RUN THIS CELL TO IMPORT YOUR DATA\u001b[39;00m\n\u001b[1;32m----> 2\u001b[0m \u001b[38;5;28;01mimport\u001b[39;00m \u001b[38;5;21;01mada_c2_labs\u001b[39;00m \u001b[38;5;28;01mas\u001b[39;00m \u001b[38;5;21;01mlab\u001b[39;00m\n\u001b[0;32m      3\u001b[0m state_list \u001b[38;5;241m=\u001b[39m lab\u001b[38;5;241m.\u001b[39mfetch_epa(\u001b[38;5;124m'\u001b[39m\u001b[38;5;124mstate\u001b[39m\u001b[38;5;124m'\u001b[39m)\n\u001b[0;32m      4\u001b[0m county_list \u001b[38;5;241m=\u001b[39m lab\u001b[38;5;241m.\u001b[39mfetch_epa(\u001b[38;5;124m'\u001b[39m\u001b[38;5;124mcounty\u001b[39m\u001b[38;5;124m'\u001b[39m)\n",
      "\u001b[1;31mModuleNotFoundError\u001b[0m: No module named 'ada_c2_labs'"
     ]
    }
   ],
   "source": [
    "# RUN THIS CELL TO IMPORT YOUR DATA\n",
    "# DONT EXPECT IT TO RUN, THE LIBRARY DOESNT EXIST HERE \n",
    "import ada_c2_labs as lab\n",
    "state_list = lab.fetch_epa('state')\n",
    "county_list = lab.fetch_epa('county')\n",
    "aqi_list = lab.fetch_epa('aqi')"
   ]
  },
  {
   "cell_type": "code",
   "execution_count": null,
   "id": "77ff2730",
   "metadata": {},
   "outputs": [],
   "source": [
    "### YOUR CODE HERE ###\n",
    "epa_tuples = list(zip(state_list, county_list, aqi_list))"
   ]
  },
  {
   "cell_type": "code",
   "execution_count": null,
   "id": "8d105717",
   "metadata": {},
   "outputs": [],
   "source": [
    "# * Create a dictionary called `aqi_dict`:\n",
    " #   * Use a loop to unpack information from each tuple in `epa_tuples`.\n",
    "  #  * Your dictionary's keys should be states.\n",
    "   # * The value at each key should be a list of tuples, where each tuple is a county-AQI pair of a record from a given state.\n",
    "\n",
    "\n",
    "### YOUR CODE HERE ###\n",
    "aqi_dict = {}\n",
    "for state, county, aqi in epa_tuples:\n",
    "    if state in aqi_dict:\n",
    "        aqi_dict[state].append((county, aqi))\n",
    "    else:\n",
    "        aqi_dict[state] = [(county, aqi)]"
   ]
  },
  {
   "cell_type": "code",
   "execution_count": 27,
   "id": "dd5cd6f4",
   "metadata": {},
   "outputs": [
    {
     "ename": "NameError",
     "evalue": "name 'aqi_dict' is not defined",
     "output_type": "error",
     "traceback": [
      "\u001b[1;31m---------------------------------------------------------------------------\u001b[0m",
      "\u001b[1;31mNameError\u001b[0m                                 Traceback (most recent call last)",
      "Cell \u001b[1;32mIn[27], line 1\u001b[0m\n\u001b[1;32m----> 1\u001b[0m \u001b[43maqi_dict\u001b[49m[\u001b[38;5;124m'\u001b[39m\u001b[38;5;124mVermont\u001b[39m\u001b[38;5;124m'\u001b[39m]\n",
      "\u001b[1;31mNameError\u001b[0m: name 'aqi_dict' is not defined"
     ]
    }
   ],
   "source": [
    "aqi_dict['Vermont']"
   ]
  },
  {
   "cell_type": "markdown",
   "id": "dde3fbd6",
   "metadata": {},
   "source": [
    "Use your Python skills to calculate the number of readings that were recorded in the state of Arizona."
   ]
  },
  {
   "cell_type": "code",
   "execution_count": null,
   "metadata": {},
   "outputs": [],
   "source": [
    "len(aqi_dict['Arizona'])"
   ]
  },
  {
   "cell_type": "markdown",
   "id": "acbeb41d",
   "metadata": {},
   "source": [
    "2b: Calculate the mean AQI from the state of California\n",
    "Use your Python skills to calculate the mean of the AQI readings that were recorded in the state of California. Note that there are many different approaches you can take. Be creative!\n",
    "\n",
    "Expected output:\n",
    "\n",
    "[OUT] 9.412280701754385"
   ]
  },
  {
   "cell_type": "code",
   "execution_count": 28,
   "id": "6ded44d2",
   "metadata": {},
   "outputs": [
    {
     "ename": "NameError",
     "evalue": "name 'aqi_dict' is not defined",
     "output_type": "error",
     "traceback": [
      "\u001b[1;31m---------------------------------------------------------------------------\u001b[0m",
      "\u001b[1;31mNameError\u001b[0m                                 Traceback (most recent call last)",
      "Cell \u001b[1;32mIn[28], line 3\u001b[0m\n\u001b[0;32m      1\u001b[0m \u001b[38;5;66;03m# CHATGPT RESPONSE CHOSEN HERE OVER COUSERA CORRECTION DIE TO EXPLANATORY METHOD\u001b[39;00m\n\u001b[0;32m      2\u001b[0m \u001b[38;5;66;03m# Get the list of (county, AQI) tuples for California\u001b[39;00m\n\u001b[1;32m----> 3\u001b[0m california_data \u001b[38;5;241m=\u001b[39m \u001b[43maqi_dict\u001b[49m\u001b[38;5;241m.\u001b[39mget(\u001b[38;5;124m'\u001b[39m\u001b[38;5;124mCalifornia\u001b[39m\u001b[38;5;124m'\u001b[39m, [])\n\u001b[0;32m      5\u001b[0m \u001b[38;5;66;03m# Calculate the mean AQI\u001b[39;00m\n\u001b[0;32m      6\u001b[0m \u001b[38;5;28;01mif\u001b[39;00m california_data:  \u001b[38;5;66;03m# Ensure there is data for California\u001b[39;00m\n",
      "\u001b[1;31mNameError\u001b[0m: name 'aqi_dict' is not defined"
     ]
    }
   ],
   "source": [
    "# CHATGPT RESPONSE CHOSEN HERE OVER COUSERA CORRECTION DIE TO EXPLANATORY METHOD\n",
    "# Get the list of (county, AQI) tuples for California\n",
    "california_data = aqi_dict.get('California', [])\n",
    "\n",
    "# Calculate the mean AQI\n",
    "if california_data:  # Ensure there is data for California\n",
    "    total_aqi = sum(aqi for _, aqi in california_data)  # Sum up AQI values\n",
    "    count = len(california_data)  # Count the number of readings\n",
    "    mean_aqi = total_aqi / count  # Calculate mean\n",
    "    print(f\"The mean AQI in California is {mean_aqi:}.\")\n",
    "else:\n",
    "    print(\"No AQI data available for California.\")\n"
   ]
  },
  {
   "cell_type": "markdown",
   "id": "f9d25034",
   "metadata": {},
   "source": [
    "3a: Write the function\n",
    "Define a function called county_counter that takes one argument:\n",
    "\n",
    "state - a string of the name of a U.S. state\n",
    "Return county_dict - a dictionary object whose keys are counties of the state given in the function's argument. For each county key, the corresponding value should be the count of the number of times that county is represented in the AQI data for that state.\n",
    "\n",
    "Example:\n",
    "\n",
    "[IN]  county_counter('Florida')\n",
    "[OUT] {'Duval': 13,\n",
    "       'Hillsborough': 9,\n",
    "       'Broward': 18,\n",
    "       'Miami-Dade': 15,\n",
    "       'Orange': 6,\n",
    "       'Palm Beach': 5,\n",
    "       'Pinellas': 6,\n",
    "       'Sarasota': 9}\n",
    "NOTE: Depending on the version of Python you're using, the order of the items returned by a dictionary can vary, so it's possible that your keys might not print in the same order as listed above. However, the key-value pairs themselves will be the same if you do the exercise successfully."
   ]
  },
  {
   "cell_type": "code",
   "execution_count": null,
   "id": "3b954fe5",
   "metadata": {},
   "outputs": [],
   "source": [
    "### YOUR CODE HERE ###\n",
    "def county_counter(state):\n",
    "    county_dict = {}\n",
    "    for county, aqi in aqi_dict[state]:\n",
    "        if county in county_dict:\n",
    "            county_dict[county] +=1\n",
    "        else:\n",
    "            county_dict[county] = 1\n",
    "    return county_dict"
   ]
  },
  {
   "cell_type": "markdown",
   "id": "55f219a4",
   "metadata": {},
   "source": [
    "Use the county_counter() function to calculate how many AQI readings were from Washington County, Pennsylvania.\n",
    "\n",
    "Expected result:\n",
    "\n",
    "[OUT] 7\n"
   ]
  },
  {
   "cell_type": "code",
   "execution_count": null,
   "id": "8cbcd53d",
   "metadata": {},
   "outputs": [],
   "source": [
    "### YOUR CODE HERE ###\n",
    "pa_dict = county_counter('Pennsylvania')\n",
    "pa_dict['Washington']"
   ]
  },
  {
   "cell_type": "markdown",
   "id": "fc60b666",
   "metadata": {},
   "source": [
    "Use the county_counter function to obtain a list of all the different counties in the state of Indiana.\n",
    "\n",
    "Expected result:\n",
    "\n",
    "[OUT] dict_keys(['Marion', 'St. Joseph', 'Vanderburgh', 'Allen', 'Vigo'\n",
    "      'Hendricks', 'Lake'])\n",
    "NOTE: Depending on the version of Python you're using, the order of the items returned by a dictionary can vary, so it's possible that your keys might not print in this same order as listed above. However, the key-value pairs themselves will be the same if you do the exercise successfully.\n",
    "\n"
   ]
  },
  {
   "cell_type": "code",
   "execution_count": null,
   "id": "24bde20d",
   "metadata": {},
   "outputs": [],
   "source": [
    "### YOUR CODE HERE ###\n",
    "county_counter('Indiana').keys()"
   ]
  },
  {
   "cell_type": "markdown",
   "id": "aad33339",
   "metadata": {},
   "source": [
    "4a: Construct a list of every county from every state\n",
    "Use aqi_dict and county_counter() to construct a list of every county from every state.\n",
    "Assign the result to a variable called all_counties.\n",
    "Find the length of all_counties."
   ]
  },
  {
   "cell_type": "code",
   "execution_count": null,
   "id": "be10759f",
   "metadata": {},
   "outputs": [],
   "source": [
    "# 1. ### YOUR CODE HERE ###\n",
    "all_counties = []\n",
    "for state in aqi_dict.keys():\n",
    "    counties = list(county_counter(state).keys())\n",
    "    all_counties += counties\n",
    "    \n",
    "# 2. ### YOUR CODE HERE ###\n",
    "len(all_counties)"
   ]
  },
  {
   "cell_type": "markdown",
   "id": "ed3da6a2",
   "metadata": {},
   "source": [
    "4b: Calculate how many counties share names\n",
    "Use all_counties and your knowledge of sets and list methods to determine how many counties share names."
   ]
  },
  {
   "cell_type": "code",
   "execution_count": null,
   "id": "74ebc8ab",
   "metadata": {},
   "outputs": [],
   "source": [
    "shared_count = 0 \n",
    "\n",
    "for county in set(all_counties): \n",
    "    count = all_counties.count(county)\n",
    "    if count > 1: \n",
    "        shared_count += count\n",
    "        \n",
    "shared_count"
   ]
  },
  {
   "cell_type": "code",
   "execution_count": null,
   "id": "0725a030",
   "metadata": {},
   "outputs": [],
   "source": []
  },
  {
   "cell_type": "code",
   "execution_count": null,
   "id": "fec28955",
   "metadata": {},
   "outputs": [],
   "source": []
  },
  {
   "cell_type": "code",
   "execution_count": null,
   "metadata": {},
   "outputs": [],
   "source": []
  },
  {
   "cell_type": "code",
   "execution_count": null,
   "id": "0ab96ea2",
   "metadata": {},
   "outputs": [],
   "source": []
  },
  {
   "cell_type": "code",
   "execution_count": null,
   "id": "16e330c1",
   "metadata": {},
   "outputs": [],
   "source": []
  },
  {
   "cell_type": "code",
   "execution_count": null,
   "id": "db171dca",
   "metadata": {},
   "outputs": [],
   "source": []
  },
  {
   "cell_type": "code",
   "execution_count": null,
   "id": "c4bde52d",
   "metadata": {},
   "outputs": [],
   "source": []
  },
  {
   "cell_type": "code",
   "execution_count": null,
   "metadata": {},
   "outputs": [],
   "source": []
  },
  {
   "cell_type": "code",
   "execution_count": null,
   "metadata": {},
   "outputs": [],
   "source": []
  },
  {
   "cell_type": "code",
   "execution_count": null,
   "metadata": {},
   "outputs": [],
   "source": []
  },
  {
   "cell_type": "code",
   "execution_count": null,
   "metadata": {},
   "outputs": [],
   "source": []
  },
  {
   "cell_type": "code",
   "execution_count": null,
   "id": "c4895c48",
   "metadata": {},
   "outputs": [],
   "source": []
  },
  {
   "cell_type": "code",
   "execution_count": null,
   "metadata": {},
   "outputs": [],
   "source": []
  },
  {
   "cell_type": "code",
   "execution_count": null,
   "metadata": {},
   "outputs": [],
   "source": []
  },
  {
   "cell_type": "code",
   "execution_count": null,
   "metadata": {},
   "outputs": [],
   "source": []
  },
  {
   "cell_type": "code",
   "execution_count": null,
   "metadata": {},
   "outputs": [],
   "source": []
  },
  {
   "cell_type": "code",
   "execution_count": null,
   "id": "db5e7d18",
   "metadata": {},
   "outputs": [],
   "source": []
  },
  {
   "cell_type": "code",
   "execution_count": null,
   "metadata": {},
   "outputs": [],
   "source": []
  }
 ],
 "metadata": {
  "kernelspec": {
   "display_name": "Python 3",
   "language": "python",
   "name": "python3"
  },
  "language_info": {
   "codemirror_mode": {
    "name": "ipython",
    "version": 3
   },
   "file_extension": ".py",
   "mimetype": "text/x-python",
   "name": "python",
   "nbconvert_exporter": "python",
   "pygments_lexer": "ipython3",
   "version": "3.11.9"
  }
 },
 "nbformat": 4,
 "nbformat_minor": 5
}
